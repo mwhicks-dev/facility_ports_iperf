{
 "cells": [
  {
   "cell_type": "markdown",
   "id": "ac575437-37a7-4897-9101-82693a63eb1e",
   "metadata": {},
   "source": [
    "Chameleon/FABRIC setup"
   ]
  },
  {
   "cell_type": "code",
   "execution_count": null,
   "id": "3ce5d786-2a1f-4e2a-a98f-34788e5b57fb",
   "metadata": {},
   "outputs": [],
   "source": [
    "#General imports\n",
    "import os\n",
    "import json\n",
    "import traceback\n",
    "from ipaddress import ip_address, IPv4Address, IPv6Address, IPv4Network, IPv6Network\n",
    "from datetime import datetime, timedelta\n",
    "from dateutil import tz\n",
    "import time\n",
    "\n",
    "# Chameleon Library\n",
    "import chi\n",
    "import chi.lease as lease_manager\n",
    "import chi.server as server_manager\n",
    "import chi.network as network_manager\n",
    "\n",
    "# FABRIC Library\n",
    "from fabrictestbed_extensions.fablib.fablib import FablibManager as fablib_manager"
   ]
  },
  {
   "cell_type": "code",
   "execution_count": null,
   "id": "365465ad-a938-4c18-98cc-a3c5ec72672c",
   "metadata": {},
   "outputs": [],
   "source": [
    "# Change to your project (CHI-XXXXXX) \n",
    "chi.set(\"project_name\", \"CHI-XXXXXX\")\n",
    "\n",
    "chameleon_prefix =  f'{os.environ[\"USER\"]}_fabric_iperf'\n",
    "chameleon_server_name = chameleon_prefix+'_server'\n",
    "chameleon_network_name = chameleon_prefix+'_net'\n",
    "chameleon_subnet_name = chameleon_prefix+'_subnet'\n",
    "chameleon_router_name = chameleon_prefix+'_router'\n",
    "chameleon_lease_name = chameleon_prefix+'_lease'\n",
    "\n",
    "chameleon_image_name='CC-Ubuntu20.04'\n",
    "uc_server_count=1\n",
    "tacc_server_count=1\n",
    "\n",
    "chameleon_key_name='<Your_Chameleon_Key>'\n",
    "chameleon_server_reservation_id = '<Your_Chameleon_Server_Reservation>'"
   ]
  },
  {
   "cell_type": "code",
   "execution_count": null,
   "id": "59489ff7-1d14-499e-81dc-c13445f08af5",
   "metadata": {},
   "outputs": [],
   "source": [
    "fablib = fablib_manager()\n",
    "fablib.show_config()\n",
    "\n",
    "fabric_slice_name='chameleon_stitch'\n",
    "\n",
    "tacc_site='TACC'\n",
    "tacc_slice_name=\"tacc_stitch\"\n",
    "tacc_faciliy_port='Chameleon-TACC'\n",
    "\n",
    "uc_site='UC'\n",
    "uc_slice_name=\"uc_stitch\"\n",
    "uc_faciliy_port='Chameleon-UC'"
   ]
  },
  {
   "cell_type": "markdown",
   "id": "da807a6e-b409-4201-bcfa-343f1bd1d9ad",
   "metadata": {},
   "source": [
    "Make Chameleon reservations"
   ]
  },
  {
   "cell_type": "code",
   "execution_count": null,
   "id": "a50323bc-64b7-40ee-bdd5-828bbe9b11f0",
   "metadata": {},
   "outputs": [],
   "source": [
    "chi.use_site('CHI@UC')\n",
    "\n",
    "uc_network_name = chameleon_network_name+'_uc'\n",
    "\n",
    "# set start/end dates\n",
    "start_date = (datetime.now(tz=tz.tzutc()) + timedelta(minutes=1)).strftime(BLAZAR_TIME_FORMAT)\n",
    "end_date = (datetime.now(tz=tz.tzutc()) + timedelta(hours=1)).strftime(BLAZAR_TIME_FORMAT)\n",
    "\n",
    "# create lease reservations\n",
    "uc_reservations = []\n",
    "lease_manager.add_node_reservation(uc_reservations, count=uc_server_count)\n",
    "lease_manager.add_fip_reservation(uc_reservations, count=tacc_server_count)\n",
    "reservation_list.append(\n",
    "        {\n",
    "            \"resource_type\": \"network\",\n",
    "            \"network_name\": uc_network_name,\n",
    "            \"network_properties\": \"\",\n",
    "            \"resource_properties\": json.dumps(\n",
    "                [\"==\", \"$stitch_provider\", 'fabric']\n",
    "            ),\n",
    "        }\n",
    ")\n",
    "\n",
    "# create lease\n",
    "uc_lease_name = chameleon_lease_name+'_uc'\n",
    "uc_lease = lease_manager.create_lease(uc_lease_name,\n",
    "                                     reservations=uc_reservations,\n",
    "                                     start_date=start_date,\n",
    "                                     end_date=end_date)\n",
    "\n",
    "# get lease info\n",
    "uc_lease_id = lease_manager.get_lease_id(uc_lease_name)\n",
    "uc_network_reservation_id = [reservation for reservation in uc_lease['reservations'] if reservation['resource_type'] == 'network'][0]['id']\n",
    "uc_node_reservation_id = lease_manager.get_node_reservation(uc_lease_id)"
   ]
  },
  {
   "cell_type": "code",
   "execution_count": null,
   "id": "574835cd-80f4-416c-82e5-374162bed656",
   "metadata": {},
   "outputs": [],
   "source": [
    "chi.use_site('CHI@TACC')\n",
    "\n",
    "tacc_network_name = chameleon_network_name+'_tacc'\n",
    "\n",
    "# set start/end dates\n",
    "start_date = (datetime.now(tz=tz.tzutc()) + timedelta(minutes=1)).strftime(BLAZAR_TIME_FORMAT)\n",
    "end_date = (datetime.now(tz=tz.tzutc()) + timedelta(hours=1)).strftime(BLAZAR_TIME_FORMAT)\n",
    "\n",
    "# create lease reservations\n",
    "tacc_reservations = []\n",
    "lease_manager.add_node_reservation(tacc_reservations, count=tacc_server_count)\n",
    "lease_manager.add_fip_reservation(tacc_reservations, count=tacc_server_count)\n",
    "reservation_list.append(\n",
    "        {\n",
    "            \"resource_type\": \"network\",\n",
    "            \"network_name\": tacc_network_name,\n",
    "            \"network_properties\": \"\",\n",
    "            \"resource_properties\": json.dumps(\n",
    "                [\"==\", \"$stitch_provider\", 'fabric']\n",
    "            ),\n",
    "        }\n",
    ")\n",
    "\n",
    "# create lease\n",
    "tacc_lease_name = chameleon_lease_name+'_tacc'\n",
    "tacc_lease = lease_manager.create_lease(tacc_lease_name,\n",
    "                                     reservations=tacc_reservations,\n",
    "                                     start_date=start_date,\n",
    "                                     end_date=end_date)\n",
    "\n",
    "# get lease info\n",
    "tacc_lease_id = lease_manager.get_lease_id(tacc_lease_name)\n",
    "tacc_network_reservation_id = [reservation for reservation in tacc_lease['reservations'] if reservation['resource_type'] == 'network'][0]['id']\n",
    "tacc_node_reservation_id = lease_manager.get_node_reservation(tacc_lease_id)"
   ]
  },
  {
   "cell_type": "markdown",
   "id": "1252a604-986f-4f6e-b73a-19d95db905b5",
   "metadata": {},
   "source": [
    "Check networks"
   ]
  },
  {
   "cell_type": "code",
   "execution_count": null,
   "id": "e49ad4f3-25d4-4e0c-815e-711e6fa8fc7e",
   "metadata": {},
   "outputs": [],
   "source": [
    "uc_network_vlan = tacc_network_vlan = None\n",
    "uc_network_id = tacc_network_id = None\n",
    "while uc_network_vlan == None or tacc_network_vlan == None:\n",
    "    try:\n",
    "        # uc check\n",
    "        chi.use_site('CHI@UC')\n",
    "        \n",
    "        #Get the network\n",
    "        uc_network = network_manager.get_network(uc_network_name)\n",
    "\n",
    "        #Get the network ID\n",
    "        uc_network_id = uc_network['id']\n",
    "        # print(f'Chameleon Network ID: {chameleon_network_id}')\n",
    "\n",
    "        #Get the VLAN tag (needed for FABRIC stitching)\n",
    "        uc_network_vlan = uc_network['provider:segmentation_id']\n",
    "        # print(f'network_vlan: {network_vlan}')\n",
    "        \n",
    "        # tacc check\n",
    "        chi.use_site('CHI@TACC')\n",
    "        \n",
    "        #Get the network\n",
    "        tacc_network = network_manager.get_network(tacc_network_name)\n",
    "\n",
    "        #Get the network ID\n",
    "        tacc_network_id = tacc_network['id']\n",
    "        # print(f'Chameleon Network ID: {chameleon_network_id}')\n",
    "\n",
    "        #Get the VLAN tag (needed for FABRIC stitching)\n",
    "        tacc_network_vlan = tacc_network['provider:segmentation_id']\n",
    "        # print(f'network_vlan: {network_vlan}')\n",
    "    except:\n",
    "        print(f'Chameleon Networks are not ready. Trying again!')\n",
    "        time.sleep(10) "
   ]
  },
  {
   "cell_type": "markdown",
   "id": "4ff3889e-c914-46c6-bd2e-65ec9642388e",
   "metadata": {},
   "source": [
    "FABRIC network slice"
   ]
  },
  {
   "cell_type": "code",
   "execution_count": null,
   "id": "ea1414c1-ed74-4b06-a9f0-b0e285e1a232",
   "metadata": {},
   "outputs": [],
   "source": [
    "fabric_slice = fablib.new_slice(name=fabric_slice_name)\n",
    "\n",
    "tacc_facility_port = fabric_slice.add_facility_port(name=tacc_facility_port, site=tacc_site, vlan=str(tacc_network_vlan))\n",
    "tacc_facility_port_iface = tacc_facility_port.get_interfaces()[0]\n",
    "uc_facility_port = fabric_slice.add_facility_port(name=uc_facility_port, site=uc_site, vlan=str(uc_network_vlan))\n",
    "uc_facility_port_iface = uc_facility_port.get_interfaces()[0]\n",
    "\n",
    "fabric_net = fabric_slice.add_l3network(name=f'facility_port_fabnetv4', interfaces=[tacc_facility_port_iface, uc_facility_port_iface])"
   ]
  },
  {
   "cell_type": "code",
   "execution_count": null,
   "id": "ee0de296-5015-4039-8ce2-ad2e1a7655e0",
   "metadata": {},
   "outputs": [],
   "source": [
    "fabric_network = fabric_slice.get_network('facility_port_fabnetv4')\n",
    "\n",
    "subnet = fabric_network.get_subnet()\n",
    "fabric_gateway_ip = fabric_network.get_gateway()\n",
    "\n",
    "available_ips = list(subnet)[1:]\n",
    "available_ips.remove(fabric_gateway_ip)\n",
    "\n",
    "chameleon_gateway_ip=available_ips.pop(0)    \n",
    "chameleon_allocation_pool_start=available_ips[0]\n",
    "chameleon_allocation_pool_end=available_ips[10]\n",
    "\n",
    "print(f'fabric_gateway_ip: {fabric_gateway_ip}')\n",
    "print(f'chameleon_gateway_ip: {chameleon_gateway_ip}')\n",
    "print(f'chameleon_allocation_pool_start: {chameleon_allocation_pool_start}')\n",
    "print(f'chameleon_allocation_pool_end: {chameleon_allocation_pool_end}')"
   ]
  },
  {
   "cell_type": "markdown",
   "id": "8ccbe74a-8506-4298-ad02-f013b7181df4",
   "metadata": {},
   "source": [
    "Add Chameleon subnets"
   ]
  },
  {
   "cell_type": "code",
   "execution_count": null,
   "id": "3a498866-7957-481c-8ba7-8328bd295ba2",
   "metadata": {},
   "outputs": [],
   "source": [
    "chi.use_site('CHI@UC')\n",
    "\n",
    "uc_subnet_name = chameleon_subnet_name+'_uc'\n",
    "\n",
    "uc_subnet = network_manager.create_subnet(uc_subnet_name, uc_network_id,\n",
    "                                         cidr=str(subnet),\n",
    "                                         allocation_pool_start=chameleon_allocation_pool_start,\n",
    "                                         allocation_pool_end=chameleon_allocation_pool_end,\n",
    "                                         gateway_ip=chameleon_gateway_ip)\n",
    "\n",
    "chi.neutron().update_subnet(subnet=uc_subnet['id'] ,\n",
    "                                    body={\n",
    "                                         \"subnet\": { \n",
    "                                             \"host_routes\": [ \n",
    "                                                    {\n",
    "                                                        \"destination\": f\"{fablib.FABNETV4_SUBNET}\", \n",
    "                                                         \"nexthop\": f\"{fabric_gateway_ip}\"\n",
    "                                                    }\n",
    "                                             ] \n",
    "                                         }\n",
    "                                    })"
   ]
  },
  {
   "cell_type": "code",
   "execution_count": null,
   "id": "c7c086bb-fd5f-4540-b8a8-58b2b967d066",
   "metadata": {},
   "outputs": [],
   "source": [
    "chi.use_site('CHI@TACC')\n",
    "\n",
    "tacc_subnet_name = chameleon_subnet_name+'_tacc'\n",
    "\n",
    "tacc_subnet = network_manager.create_subnet(tacc_subnet_name, tacc_network_id,\n",
    "                                         cidr=str(subnet),\n",
    "                                         allocation_pool_start=chameleon_allocation_pool_start,\n",
    "                                         allocation_pool_end=chameleon_allocation_pool_end,\n",
    "                                         gateway_ip=chameleon_gateway_ip)\n",
    "\n",
    "chi.neutron().update_subnet(subnet=tacc_subnet['id'] ,\n",
    "                                    body={\n",
    "                                         \"subnet\": { \n",
    "                                             \"host_routes\": [ \n",
    "                                                    {\n",
    "                                                        \"destination\": f\"{fablib.FABNETV4_SUBNET}\", \n",
    "                                                         \"nexthop\": f\"{fabric_gateway_ip}\"\n",
    "                                                    }\n",
    "                                             ] \n",
    "                                         }\n",
    "                                    })"
   ]
  },
  {
   "cell_type": "markdown",
   "id": "36876885-aa7e-4c80-abb5-b5853802bab8",
   "metadata": {},
   "source": [
    "Add Chameleon routers"
   ]
  },
  {
   "cell_type": "code",
   "execution_count": null,
   "id": "bbed6717-77e3-4b51-8952-c30c58cb0d5f",
   "metadata": {},
   "outputs": [],
   "source": [
    "chi.use_site('CHI@UC')\n",
    "\n",
    "uc_router_name = chameleon_router_name+'_uc'\n",
    "\n",
    "uc_router = network_manager.create_router(uc_router_name, gw_network_name='public')\n",
    "uc_connection_port = network_manager.add_subnet_to_router_by_name(uc_router_name, uc_subnet_name)"
   ]
  },
  {
   "cell_type": "code",
   "execution_count": null,
   "id": "159de98b-7ba4-48f5-a72f-98f401d3f42f",
   "metadata": {},
   "outputs": [],
   "source": [
    "chi.use_site('CHI@TACC')\n",
    "\n",
    "tacc_router_name = chameleon_router_name+'_tacc'\n",
    "\n",
    "tacc_router = network_manager.create_router(tacc_router_name, gw_network_name='public')\n",
    "tacc_connection_port = network_manager.add_subnet_to_router_by_name(tacc_router_name, tacc_subnet_name)"
   ]
  },
  {
   "cell_type": "markdown",
   "id": "1b7eb758-2742-46f7-bdd8-f24c2a30553d",
   "metadata": {},
   "source": [
    "Start Chameleon servers"
   ]
  },
  {
   "cell_type": "code",
   "execution_count": null,
   "id": "c17fa585-c8f4-4f55-9892-3e08d01ef8f2",
   "metadata": {},
   "outputs": [],
   "source": [
    "chi.use_site('CHI@UC')\n",
    "\n",
    "uc_servers = []\n",
    "\n",
    "for i in range(uc_server_count):\n",
    "    server_name = f\"{uc_server_name}_{i+1}\"\n",
    "    \n",
    "    servers.append(server_manager.create_server(server_name,\n",
    "                                               reservation_id=uc_node_reservation_id,\n",
    "                                               network_name=uc_network_name,\n",
    "                                               image_name=chameleon_image_name,\n",
    "                                               key_name=chameleon_key_name\n",
    "                                            ))"
   ]
  },
  {
   "cell_type": "code",
   "execution_count": null,
   "id": "51263263-e747-4a2d-8bcd-106d20522c97",
   "metadata": {},
   "outputs": [],
   "source": [
    "chi.use_site('CHI@TACC')\n",
    "\n",
    "tacc_servers = []\n",
    "\n",
    "for i in range(tacc_server_count):\n",
    "    server_name = f\"{tacc_server_name}_{i+1}\"\n",
    "    \n",
    "    servers.append(server_manager.create_server(server_name,\n",
    "                                               reservation_id=tacc_node_reservation_id,\n",
    "                                               network_name=tacc_network_name,\n",
    "                                               image_name=chameleon_image_name,\n",
    "                                               key_name=chameleon_key_name\n",
    "                                            ))"
   ]
  },
  {
   "cell_type": "markdown",
   "id": "2342134c-28a2-4b1e-be88-ca04b5a85359",
   "metadata": {},
   "source": [
    "Wait for servers"
   ]
  },
  {
   "cell_type": "code",
   "execution_count": null,
   "id": "928ffce0-388c-4e10-b025-1e9622206a30",
   "metadata": {},
   "outputs": [],
   "source": [
    "chi.use_site('CHI@UC')\n",
    "\n",
    "for server in uc_servers:\n",
    "    server_manager.wait_for_active(server.id)\n",
    "    \n",
    "chi.use_site('CHI@TACC')\n",
    "\n",
    "for server in tacc_servers:\n",
    "    server_manager.wait_for_active(server.id)"
   ]
  },
  {
   "cell_type": "markdown",
   "id": "0c0e5f23-bca6-4831-8a55-f241d1e91921",
   "metadata": {},
   "source": [
    "Get server fixed IPs"
   ]
  },
  {
   "cell_type": "code",
   "execution_count": null,
   "id": "5e251ad5-118c-4ae6-b258-e3c724015d9d",
   "metadata": {},
   "outputs": [],
   "source": [
    "chi.use_site('CHI@UC')\n",
    "\n",
    "uc_fixed_ips={}\n",
    "for i in range(uc_server_count):\n",
    "    server_name = f\"{uc_server_name}_{i+1}\"\n",
    "    server_id = get_server_id(server_name)\n",
    "    fixed_ip = get_server(server_id).interface_list()[0].to_dict()[\"fixed_ips\"][0][\"ip_address\"]\n",
    "    uc_fixed_ips[server_name] = fixed_ip"
   ]
  },
  {
   "cell_type": "code",
   "execution_count": null,
   "id": "270bbfc4-13f2-4c37-a7fa-d8b5b109ce33",
   "metadata": {},
   "outputs": [],
   "source": [
    "chi.use_site('CHI@TACC')\n",
    "\n",
    "tacc_fixed_ips={}\n",
    "for i in range(tacc_server_count):\n",
    "    server_name = f\"{tacc_server_name}_{i+1}\"\n",
    "    server_id = get_server_id(server_name)\n",
    "    fixed_ip = get_server(server_id).interface_list()[0].to_dict()[\"fixed_ips\"][0][\"ip_address\"]\n",
    "    tacc_fixed_ips[server_name] = fixed_ip"
   ]
  }
 ],
 "metadata": {
  "kernelspec": {
   "display_name": "Python 3 (ipykernel)",
   "language": "python",
   "name": "python3"
  },
  "language_info": {
   "codemirror_mode": {
    "name": "ipython",
    "version": 3
   },
   "file_extension": ".py",
   "mimetype": "text/x-python",
   "name": "python",
   "nbconvert_exporter": "python",
   "pygments_lexer": "ipython3",
   "version": "3.10.9"
  }
 },
 "nbformat": 4,
 "nbformat_minor": 5
}
