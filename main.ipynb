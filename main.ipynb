{
 "cells": [
  {
   "cell_type": "markdown",
   "id": "ac575437-37a7-4897-9101-82693a63eb1e",
   "metadata": {},
   "source": [
    "Chameleon/FABRIC setup"
   ]
  },
  {
   "cell_type": "code",
   "execution_count": 1,
   "id": "3ce5d786-2a1f-4e2a-a98f-34788e5b57fb",
   "metadata": {},
   "outputs": [],
   "source": [
    "#General imports\n",
    "import os\n",
    "import json\n",
    "import traceback\n",
    "from ipaddress import ip_address, IPv4Address, IPv6Address, IPv4Network, IPv6Network\n",
    "from datetime import datetime, timedelta\n",
    "from dateutil import tz\n",
    "import time\n",
    "\n",
    "# Chameleon Library\n",
    "import chi\n",
    "import chi.lease as lease_manager\n",
    "import chi.server as server_manager\n",
    "import chi.network as network_manager\n",
    "\n",
    "BLAZAR_TIME_FORMAT = '%Y-%m-%d %H:%M'\n",
    "\n",
    "# FABRIC Library\n",
    "from fabrictestbed_extensions.fablib.fablib import FablibManager as fablib_manager"
   ]
  },
  {
   "cell_type": "code",
   "execution_count": 2,
   "id": "365465ad-a938-4c18-98cc-a3c5ec72672c",
   "metadata": {},
   "outputs": [],
   "source": [
    "# Change to your project (CHI-XXXXXX) \n",
    "chi.set(\"project_name\", \"CH-822154\")\n",
    "\n",
    "chameleon_prefix =  f'{os.environ[\"USER\"]}_fabric_iperf'\n",
    "chameleon_server_name = chameleon_prefix+'_server'\n",
    "chameleon_network_name = chameleon_prefix+'_net'\n",
    "chameleon_subnet_name = chameleon_prefix+'_subnet'\n",
    "chameleon_router_name = chameleon_prefix+'_router'\n",
    "chameleon_lease_name = chameleon_prefix+'_lease'\n",
    "\n",
    "chameleon_image_name='CC-Ubuntu20.04'\n",
    "\n",
    "chameleon_site_1='CHI@TACC'\n",
    "site_1_suffix='_tacc'\n",
    "site_1_server_count=1\n",
    "\n",
    "chameleon_site_2='CHI@UC'\n",
    "site_2_suffix='_uc'\n",
    "site_2_server_count=1\n",
    "\n",
    "chameleon_key_name='chameleon_key_desktop'\n",
    "chameleon_key_path='/home/mwhicks2_ncsu_edu/work/.ssh/my_chameleon_key.pem'"
   ]
  },
  {
   "cell_type": "code",
   "execution_count": 3,
   "id": "59489ff7-1d14-499e-81dc-c13445f08af5",
   "metadata": {},
   "outputs": [
    {
     "data": {
      "text/html": [
       "<style type=\"text/css\">\n",
       "#T_abb1c tr:nth-child(even) {\n",
       "  background: #dbf3ff;\n",
       "  color: #231f20;\n",
       "}\n",
       "#T_abb1c tr:nth-child(odd) {\n",
       "  background: #ffffff;\n",
       "  color: #231f20;\n",
       "}\n",
       "#T_abb1c caption {\n",
       "  text-align: center;\n",
       "  font-size: 150%;\n",
       "}\n",
       "#T_abb1c_row0_col0, #T_abb1c_row0_col1, #T_abb1c_row1_col0, #T_abb1c_row1_col1, #T_abb1c_row2_col0, #T_abb1c_row2_col1, #T_abb1c_row3_col0, #T_abb1c_row3_col1, #T_abb1c_row4_col0, #T_abb1c_row4_col1, #T_abb1c_row5_col0, #T_abb1c_row5_col1, #T_abb1c_row6_col0, #T_abb1c_row6_col1, #T_abb1c_row7_col0, #T_abb1c_row7_col1, #T_abb1c_row8_col0, #T_abb1c_row8_col1, #T_abb1c_row9_col0, #T_abb1c_row9_col1, #T_abb1c_row10_col0, #T_abb1c_row10_col1, #T_abb1c_row11_col0, #T_abb1c_row11_col1, #T_abb1c_row12_col0, #T_abb1c_row12_col1, #T_abb1c_row13_col0, #T_abb1c_row13_col1 {\n",
       "  text-align: left;\n",
       "  border: 1px #231f20 solid !important;\n",
       "  overwrite: False;\n",
       "}\n",
       "</style>\n",
       "<table id=\"T_abb1c\">\n",
       "  <caption>FABlib Config</caption>\n",
       "  <thead>\n",
       "  </thead>\n",
       "  <tbody>\n",
       "    <tr>\n",
       "      <td id=\"T_abb1c_row0_col0\" class=\"data row0 col0\" >Credential Manager</td>\n",
       "      <td id=\"T_abb1c_row0_col1\" class=\"data row0 col1\" >cm.fabric-testbed.net</td>\n",
       "    </tr>\n",
       "    <tr>\n",
       "      <td id=\"T_abb1c_row1_col0\" class=\"data row1 col0\" >Orchestrator</td>\n",
       "      <td id=\"T_abb1c_row1_col1\" class=\"data row1 col1\" >orchestrator.fabric-testbed.net</td>\n",
       "    </tr>\n",
       "    <tr>\n",
       "      <td id=\"T_abb1c_row2_col0\" class=\"data row2 col0\" >Token File</td>\n",
       "      <td id=\"T_abb1c_row2_col1\" class=\"data row2 col1\" >/home/mwhicks2_ncsu_edu/work/fabric_config/id_token.json</td>\n",
       "    </tr>\n",
       "    <tr>\n",
       "      <td id=\"T_abb1c_row3_col0\" class=\"data row3 col0\" >Project ID</td>\n",
       "      <td id=\"T_abb1c_row3_col1\" class=\"data row3 col1\" >1630021f-0a0c-4792-a241-997f410d36e1</td>\n",
       "    </tr>\n",
       "    <tr>\n",
       "      <td id=\"T_abb1c_row4_col0\" class=\"data row4 col0\" >Bastion Username</td>\n",
       "      <td id=\"T_abb1c_row4_col1\" class=\"data row4 col1\" >mwhicks2_0037146471</td>\n",
       "    </tr>\n",
       "    <tr>\n",
       "      <td id=\"T_abb1c_row5_col0\" class=\"data row5 col0\" >Bastion Private Key File</td>\n",
       "      <td id=\"T_abb1c_row5_col1\" class=\"data row5 col1\" >/home/mwhicks2_ncsu_edu/work/fabric_config/fabric_bastion_key_mobile</td>\n",
       "    </tr>\n",
       "    <tr>\n",
       "      <td id=\"T_abb1c_row6_col0\" class=\"data row6 col0\" >Bastion Host</td>\n",
       "      <td id=\"T_abb1c_row6_col1\" class=\"data row6 col1\" >bastion.fabric-testbed.net</td>\n",
       "    </tr>\n",
       "    <tr>\n",
       "      <td id=\"T_abb1c_row7_col0\" class=\"data row7 col0\" >Bastion Private Key Passphrase</td>\n",
       "      <td id=\"T_abb1c_row7_col1\" class=\"data row7 col1\" >None</td>\n",
       "    </tr>\n",
       "    <tr>\n",
       "      <td id=\"T_abb1c_row8_col0\" class=\"data row8 col0\" >Slice Public Key File</td>\n",
       "      <td id=\"T_abb1c_row8_col1\" class=\"data row8 col1\" >/home/mwhicks2_ncsu_edu/work/fabric_config/slice_key.pub</td>\n",
       "    </tr>\n",
       "    <tr>\n",
       "      <td id=\"T_abb1c_row9_col0\" class=\"data row9 col0\" >Slice Private Key File</td>\n",
       "      <td id=\"T_abb1c_row9_col1\" class=\"data row9 col1\" >/home/mwhicks2_ncsu_edu/work/fabric_config/slice_key</td>\n",
       "    </tr>\n",
       "    <tr>\n",
       "      <td id=\"T_abb1c_row10_col0\" class=\"data row10 col0\" >Slice Private Key Passphrase</td>\n",
       "      <td id=\"T_abb1c_row10_col1\" class=\"data row10 col1\" >None</td>\n",
       "    </tr>\n",
       "    <tr>\n",
       "      <td id=\"T_abb1c_row11_col0\" class=\"data row11 col0\" >Log File</td>\n",
       "      <td id=\"T_abb1c_row11_col1\" class=\"data row11 col1\" >/home/mwhicks2_ncsu_edu/fablib.log</td>\n",
       "    </tr>\n",
       "    <tr>\n",
       "      <td id=\"T_abb1c_row12_col0\" class=\"data row12 col0\" >Log Level</td>\n",
       "      <td id=\"T_abb1c_row12_col1\" class=\"data row12 col1\" >INFO</td>\n",
       "    </tr>\n",
       "    <tr>\n",
       "      <td id=\"T_abb1c_row13_col0\" class=\"data row13 col0\" >Version</td>\n",
       "      <td id=\"T_abb1c_row13_col1\" class=\"data row13 col1\" >1.5.0</td>\n",
       "    </tr>\n",
       "  </tbody>\n",
       "</table>\n"
      ],
      "text/plain": [
       "<pandas.io.formats.style.Styler at 0x7fdbc03dc5b0>"
      ]
     },
     "metadata": {},
     "output_type": "display_data"
    }
   ],
   "source": [
    "fablib = fablib_manager()\n",
    "fablib.show_config()\n",
    "\n",
    "fabric_slice_name='chameleon_stitch'\n",
    "\n",
    "fabric_site_1='TACC'\n",
    "site_1_slice_name=\"tacc_stitch\"\n",
    "site_1_facility_port='Chameleon-TACC'\n",
    "\n",
    "fabric_site_2='STAR'\n",
    "site_2_slice_name=\"chicago_stitch\"\n",
    "site_2_facility_port='Chameleon-StarLight'"
   ]
  },
  {
   "cell_type": "markdown",
   "id": "da807a6e-b409-4201-bcfa-343f1bd1d9ad",
   "metadata": {},
   "source": [
    "Make Chameleon reservations"
   ]
  },
  {
   "cell_type": "code",
   "execution_count": 4,
   "id": "5a657400-6573-4319-8d8f-f33ce32033bd",
   "metadata": {},
   "outputs": [],
   "source": [
    "site_1_resource_lease_id=None\n",
    "site_2_resource_lease_id=None"
   ]
  },
  {
   "cell_type": "code",
   "execution_count": 5,
   "id": "a50323bc-64b7-40ee-bdd5-828bbe9b11f0",
   "metadata": {},
   "outputs": [
    {
     "name": "stdout",
     "output_type": "stream",
     "text": [
      "Now using CHI@TACC:\n",
      "URL: https://chi.tacc.chameleoncloud.org\n",
      "Location: Austin, Texas, USA\n",
      "Support contact: help@chameleoncloud.org\n"
     ]
    }
   ],
   "source": [
    "chi.use_site(chameleon_site_1)\n",
    "os.environ['OS_REGION_NAME'] = chameleon_site_1\n",
    "\n",
    "# create or get facilities lease\n",
    "if site_1_resource_lease_id is None:\n",
    "    # set start/end dates\n",
    "    start_date = (datetime.now(tz=tz.tzutc()) + timedelta(minutes=1)).strftime(BLAZAR_TIME_FORMAT)\n",
    "    end_date = (datetime.now(tz=tz.tzutc()) + timedelta(hours=1)).strftime(BLAZAR_TIME_FORMAT)\n",
    "    \n",
    "    # create lease reservations\n",
    "    site_1_resource_reservations = []\n",
    "    lease_manager.add_node_reservation(site_1_resource_reservations, count=site_1_server_count)\n",
    "    lease_manager.add_fip_reservation(site_1_resource_reservations, count=site_1_server_count)\n",
    "    \n",
    "    # create lease\n",
    "    site_1_resource_lease_name = chameleon_lease_name+'_resources'+site_1_suffix\n",
    "    site_1_resource_lease = lease_manager.create_lease(site_1_resource_lease_name,\n",
    "                                                      reservations=site_1_resource_reservations,\n",
    "                                                      start_date=start_date,\n",
    "                                                      end_date=end_date)\n",
    "    site_1_resource_lease_id = lease_manager.get_lease_id(site_1_resource_lease_name)\n",
    "# get lease info\n",
    "site_1_node_reservation_id = lease_manager.get_node_reservation(site_1_resource_lease_id)\n",
    "\n",
    "# set start/end dates\n",
    "start_date = (datetime.now(tz=tz.tzutc()) + timedelta(minutes=1)).strftime(BLAZAR_TIME_FORMAT)\n",
    "end_date = (datetime.now(tz=tz.tzutc()) + timedelta(hours=1)).strftime(BLAZAR_TIME_FORMAT)\n",
    "\n",
    "# create network lease reservations\n",
    "site_1_network_name = chameleon_network_name+site_1_suffix\n",
    "site_1_network_reservations = []\n",
    "site_1_network_reservations.append(\n",
    "        {\n",
    "            \"resource_type\": \"network\",\n",
    "            \"network_name\": site_1_network_name,\n",
    "            \"network_properties\": \"\",\n",
    "            \"resource_properties\": json.dumps(\n",
    "                [\"==\", \"$stitch_provider\", 'fabric']\n",
    "            ),\n",
    "        }\n",
    ")\n",
    "\n",
    "# create network lease\n",
    "site_1_network_lease_name = chameleon_lease_name+'_network'+site_1_suffix\n",
    "site_1_network_lease = lease_manager.create_lease(site_1_network_lease_name,\n",
    "                                                 reservations=site_1_network_reservations,\n",
    "                                                 start_date=start_date,\n",
    "                                                 end_date=end_date)\n",
    "site_1_network_lease_id = lease_manager.get_lease_id(site_1_network_lease_name)\n",
    "\n",
    "# get lease info\n",
    "site_1_network_reservation_id = [reservation for reservation in site_1_network_lease['reservations'] if reservation['resource_type'] == 'network'][0]['id']"
   ]
  },
  {
   "cell_type": "code",
   "execution_count": 6,
   "id": "574835cd-80f4-416c-82e5-374162bed656",
   "metadata": {},
   "outputs": [
    {
     "name": "stdout",
     "output_type": "stream",
     "text": [
      "Now using CHI@UC:\n",
      "URL: https://chi.uc.chameleoncloud.org\n",
      "Location: Argonne National Laboratory, Lemont, Illinois, USA\n",
      "Support contact: help@chameleoncloud.org\n"
     ]
    }
   ],
   "source": [
    "chi.use_site(chameleon_site_2)\n",
    "os.environ['OS_REGION_NAME'] = chameleon_site_2\n",
    "\n",
    "# create or get facilities lease\n",
    "if site_2_resource_lease_id is None:\n",
    "    # reset start/end dates\n",
    "    start_date = (datetime.now(tz=tz.tzutc()) + timedelta(minutes=1)).strftime(BLAZAR_TIME_FORMAT)\n",
    "    end_date = (datetime.now(tz=tz.tzutc()) + timedelta(hours=1)).strftime(BLAZAR_TIME_FORMAT)\n",
    "    \n",
    "    # create lease reservations\n",
    "    site_2_resource_reservations = []\n",
    "    lease_manager.add_node_reservation(site_2_resource_reservations, count=site_2_server_count)\n",
    "    lease_manager.add_fip_reservation(site_2_resource_reservations, count=site_2_server_count)\n",
    "    \n",
    "    # create lease\n",
    "    site_2_resource_lease_name = chameleon_lease_name+'_resources'+site_2_suffix\n",
    "    site_2_resource_lease = lease_manager.create_lease(site_2_resource_lease_name,\n",
    "                                                      reservations=site_2_resource_reservations,\n",
    "                                                      start_date=start_date,\n",
    "                                                      end_date=end_date)\n",
    "    site_2_resource_lease_id = lease_manager.get_lease_id(site_2_resource_lease_name)\n",
    "# get lease info\n",
    "site_2_node_reservation_id = lease_manager.get_node_reservation(site_2_resource_lease_id)\n",
    "\n",
    "# set start/end dates\n",
    "start_date = (datetime.now(tz=tz.tzutc()) + timedelta(minutes=1)).strftime(BLAZAR_TIME_FORMAT)\n",
    "end_date = (datetime.now(tz=tz.tzutc()) + timedelta(hours=1)).strftime(BLAZAR_TIME_FORMAT)\n",
    "\n",
    "# create network lease reservations\n",
    "site_2_network_name = chameleon_network_name+site_2_suffix\n",
    "site_2_network_reservations = []\n",
    "site_2_network_reservations.append(\n",
    "        {\n",
    "            \"resource_type\": \"network\",\n",
    "            \"network_name\": site_2_network_name,\n",
    "            \"network_properties\": \"\",\n",
    "            \"resource_properties\": json.dumps(\n",
    "                [\"==\", \"$stitch_provider\", 'fabric']\n",
    "            ),\n",
    "        }\n",
    ")\n",
    "\n",
    "# create network lease\n",
    "site_2_network_lease_name = chameleon_lease_name+'_network'+site_2_suffix\n",
    "site_2_network_lease = lease_manager.create_lease(site_2_network_lease_name,\n",
    "                                                 reservations=site_2_network_reservations,\n",
    "                                                 start_date=start_date,\n",
    "                                                 end_date=end_date)\n",
    "site_2_network_lease_id = lease_manager.get_lease_id(site_2_network_lease_name)\n",
    "\n",
    "# get lease info\n",
    "site_2_network_reservation_id = [reservation for reservation in site_2_network_lease['reservations'] if reservation['resource_type'] == 'network'][0]['id']"
   ]
  },
  {
   "cell_type": "markdown",
   "id": "1252a604-986f-4f6e-b73a-19d95db905b5",
   "metadata": {},
   "source": [
    "Check networks"
   ]
  },
  {
   "cell_type": "code",
   "execution_count": 8,
   "id": "e49ad4f3-25d4-4e0c-815e-711e6fa8fc7e",
   "metadata": {},
   "outputs": [
    {
     "name": "stdout",
     "output_type": "stream",
     "text": [
      "Now using CHI@TACC:\n",
      "URL: https://chi.tacc.chameleoncloud.org\n",
      "Location: Austin, Texas, USA\n",
      "Support contact: help@chameleoncloud.org\n",
      "Now using CHI@UC:\n",
      "URL: https://chi.uc.chameleoncloud.org\n",
      "Location: Argonne National Laboratory, Lemont, Illinois, USA\n",
      "Support contact: help@chameleoncloud.org\n"
     ]
    }
   ],
   "source": [
    "site_1_network_vlan = site_2_network_vlan = None\n",
    "site_1_network_id = site_2_network_id = None\n",
    "\n",
    "import time\n",
    "\n",
    "retry_sec = 5\n",
    "\n",
    "while True:\n",
    "    try:\n",
    "        # uc check\n",
    "        chi.use_site(chameleon_site_1)\n",
    "        os.environ['OS_REGION_NAME'] = chameleon_site_1\n",
    "\n",
    "        #Get the network\n",
    "        site_1_network = network_manager.get_network(site_1_network_name)\n",
    "\n",
    "        #Get the network ID\n",
    "        site_1_network_id = site_1_network['id']\n",
    "\n",
    "        #Get the VLAN tag (needed for FABRIC stitching)\n",
    "        site_1_network_vlan = site_1_network['provider:segmentation_id']\n",
    "\n",
    "        # tacc check\n",
    "        chi.use_site(chameleon_site_2)\n",
    "        os.environ['OS_REGION_NAME'] = chameleon_site_2\n",
    "\n",
    "        #Get the network\n",
    "        site_2_network = network_manager.get_network(site_2_network_name)\n",
    "\n",
    "        #Get the network ID\n",
    "        site_2_network_id = site_2_network['id']\n",
    "\n",
    "        #Get the VLAN tag (needed for FABRIC stitching)\n",
    "        site_2_network_vlan = site_2_network['provider:segmentation_id']\n",
    "        \n",
    "        break  # if it makes it this far, everything is far\n",
    "    except Exception as e:\n",
    "        print(f'Error: {str(e)}')\n",
    "        print('Trying again in {str(retry_sec)}s...')\n",
    "        time.sleep(retry_sec)"
   ]
  },
  {
   "cell_type": "markdown",
   "id": "4ff3889e-c914-46c6-bd2e-65ec9642388e",
   "metadata": {},
   "source": [
    "FABRIC network slice"
   ]
  },
  {
   "cell_type": "code",
   "execution_count": 9,
   "id": "ca7a969c-6abb-42ae-8ada-897ccef87b49",
   "metadata": {},
   "outputs": [
    {
     "ename": "Exception",
     "evalue": "Submit request error: return_status Status.FAILURE, slice_reservations: (500)\nReason: INTERNAL SERVER ERROR\nHTTP response headers: HTTPHeaderDict({'Server': 'nginx/1.21.6', 'Date': 'Wed, 26 Jul 2023 17:10:14 GMT', 'Content-Type': 'text/html; charset=utf-8', 'Content-Length': '252', 'Connection': 'keep-alive', 'Access-Control-Allow-Credentials': 'true', 'Access-Control-Allow-Headers': 'DNT, User-Agent, X-Requested-With, If-Modified-Since, Cache-Control, Content-Type, Range, Authorization', 'Access-Control-Allow-Methods': 'GET, POST, PUT, PATCH, DELETE, OPTIONS', 'Access-Control-Allow-Origin': '*', 'Access-Control-Expose-Headers': 'Content-Length, Content-Range, X-Error', 'X-Error': 'Service facility_port_fabnetv4 of type FABNetv4 cannot span 2 sites. Limit: 1.'})\nHTTP response body: b'{\\n    \"errors\": [\\n        {\\n            \"details\": \"Service facility_port_fabnetv4 of type FABNetv4 cannot span 2 sites. Limit: 1.\",\\n            \"message\": \"Internal Server Error\"\\n        }\\n    ],\\n    \"size\": 1,\\n    \"status\": 500,\\n    \"type\": \"error\"\\n}'\n",
     "output_type": "error",
     "traceback": [
      "\u001b[0;31m---------------------------------------------------------------------------\u001b[0m",
      "\u001b[0;31mException\u001b[0m                                 Traceback (most recent call last)",
      "Cell \u001b[0;32mIn[9], line 10\u001b[0m\n\u001b[1;32m      6\u001b[0m site_2_facility_port_iface \u001b[38;5;241m=\u001b[39m site_2_facility_port\u001b[38;5;241m.\u001b[39mget_interfaces()[\u001b[38;5;241m0\u001b[39m]\n\u001b[1;32m      8\u001b[0m fabric_net \u001b[38;5;241m=\u001b[39m fabric_slice\u001b[38;5;241m.\u001b[39madd_l3network(name\u001b[38;5;241m=\u001b[39m\u001b[38;5;124mf\u001b[39m\u001b[38;5;124m'\u001b[39m\u001b[38;5;124mfacility_port_fabnetv4\u001b[39m\u001b[38;5;124m'\u001b[39m, interfaces\u001b[38;5;241m=\u001b[39m[site_1_facility_port_iface, site_2_facility_port_iface])\n\u001b[0;32m---> 10\u001b[0m \u001b[43mfabric_slice\u001b[49m\u001b[38;5;241;43m.\u001b[39;49m\u001b[43msubmit\u001b[49m\u001b[43m(\u001b[49m\u001b[43m)\u001b[49m\n\u001b[1;32m     11\u001b[0m fabric_slice \u001b[38;5;241m=\u001b[39m fablib\u001b[38;5;241m.\u001b[39mget_slice(name\u001b[38;5;241m=\u001b[39mfabric_slice_name)\n",
      "File \u001b[0;32m~/.local/lib/python3.10/site-packages/fabrictestbed_extensions/fablib/slice.py:1906\u001b[0m, in \u001b[0;36mSlice.submit\u001b[0;34m(self, wait, wait_timeout, wait_interval, progress, wait_jupyter, post_boot_config, wait_ssh)\u001b[0m\n\u001b[1;32m   1902\u001b[0m     \u001b[38;5;28;01melse\u001b[39;00m:\n\u001b[1;32m   1903\u001b[0m         logging\u001b[38;5;241m.\u001b[39merror(\n\u001b[1;32m   1904\u001b[0m             \u001b[38;5;124mf\u001b[39m\u001b[38;5;124m\"\u001b[39m\u001b[38;5;124mSubmit request error: return_status \u001b[39m\u001b[38;5;132;01m{\u001b[39;00mreturn_status\u001b[38;5;132;01m}\u001b[39;00m\u001b[38;5;124m, slice_reservations: \u001b[39m\u001b[38;5;132;01m{\u001b[39;00mslice_reservations\u001b[38;5;132;01m}\u001b[39;00m\u001b[38;5;124m\"\u001b[39m\n\u001b[1;32m   1905\u001b[0m         )\n\u001b[0;32m-> 1906\u001b[0m         \u001b[38;5;28;01mraise\u001b[39;00m \u001b[38;5;167;01mException\u001b[39;00m(\n\u001b[1;32m   1907\u001b[0m             \u001b[38;5;124mf\u001b[39m\u001b[38;5;124m\"\u001b[39m\u001b[38;5;124mSubmit request error: return_status \u001b[39m\u001b[38;5;132;01m{\u001b[39;00mreturn_status\u001b[38;5;132;01m}\u001b[39;00m\u001b[38;5;124m, slice_reservations: \u001b[39m\u001b[38;5;132;01m{\u001b[39;00mslice_reservations\u001b[38;5;132;01m}\u001b[39;00m\u001b[38;5;124m\"\u001b[39m\n\u001b[1;32m   1908\u001b[0m         )\n\u001b[1;32m   1910\u001b[0m \u001b[38;5;28;01mif\u001b[39;00m return_status \u001b[38;5;241m!=\u001b[39m Status\u001b[38;5;241m.\u001b[39mOK:\n\u001b[1;32m   1911\u001b[0m     \u001b[38;5;28;01mraise\u001b[39;00m \u001b[38;5;167;01mException\u001b[39;00m(\n\u001b[1;32m   1912\u001b[0m         \u001b[38;5;124m\"\u001b[39m\u001b[38;5;124mFailed to submit slice: \u001b[39m\u001b[38;5;132;01m{}\u001b[39;00m\u001b[38;5;124m, \u001b[39m\u001b[38;5;132;01m{}\u001b[39;00m\u001b[38;5;124m\"\u001b[39m\u001b[38;5;241m.\u001b[39mformat(\n\u001b[1;32m   1913\u001b[0m             return_status, slice_reservations\n\u001b[1;32m   1914\u001b[0m         )\n\u001b[1;32m   1915\u001b[0m     )\n",
      "\u001b[0;31mException\u001b[0m: Submit request error: return_status Status.FAILURE, slice_reservations: (500)\nReason: INTERNAL SERVER ERROR\nHTTP response headers: HTTPHeaderDict({'Server': 'nginx/1.21.6', 'Date': 'Wed, 26 Jul 2023 17:10:14 GMT', 'Content-Type': 'text/html; charset=utf-8', 'Content-Length': '252', 'Connection': 'keep-alive', 'Access-Control-Allow-Credentials': 'true', 'Access-Control-Allow-Headers': 'DNT, User-Agent, X-Requested-With, If-Modified-Since, Cache-Control, Content-Type, Range, Authorization', 'Access-Control-Allow-Methods': 'GET, POST, PUT, PATCH, DELETE, OPTIONS', 'Access-Control-Allow-Origin': '*', 'Access-Control-Expose-Headers': 'Content-Length, Content-Range, X-Error', 'X-Error': 'Service facility_port_fabnetv4 of type FABNetv4 cannot span 2 sites. Limit: 1.'})\nHTTP response body: b'{\\n    \"errors\": [\\n        {\\n            \"details\": \"Service facility_port_fabnetv4 of type FABNetv4 cannot span 2 sites. Limit: 1.\",\\n            \"message\": \"Internal Server Error\"\\n        }\\n    ],\\n    \"size\": 1,\\n    \"status\": 500,\\n    \"type\": \"error\"\\n}'\n"
     ]
    }
   ],
   "source": [
    "fabric_slice = fablib.new_slice(name=fabric_slice_name)\n",
    "\n",
    "site_1_facility_port = fabric_slice.add_facility_port(name=site_1_facility_port, site=fabric_site_1, vlan=str(site_1_network_vlan))\n",
    "site_1_facility_port_iface = site_1_facility_port.get_interfaces()[0]\n",
    "site_2_facility_port = fabric_slice.add_facility_port(name=site_2_facility_port, site=fabric_site_2, vlan=str(site_2_network_vlan))\n",
    "site_2_facility_port_iface = site_2_facility_port.get_interfaces()[0]\n",
    "\n",
    "fabric_net = fabric_slice.add_l3network(name=f'facility_port_fabnetv4', interfaces=[site_1_facility_port_iface, site_2_facility_port_iface])\n",
    "\n",
    "fabric_slice.submit()\n",
    "fabric_slice = fablib.get_slice(name=fabric_slice_name)"
   ]
  },
  {
   "cell_type": "code",
   "execution_count": null,
   "id": "ee0de296-5015-4039-8ce2-ad2e1a7655e0",
   "metadata": {},
   "outputs": [],
   "source": [
    "fabric_network = fabric_slice.get_network('facility_port_fabnetv4')\n",
    "\n",
    "subnet = fabric_network.get_subnet()\n",
    "fabric_gateway_ip = fabric_network.get_gateway()\n",
    "\n",
    "available_ips = list(subnet)[1:]\n",
    "\n",
    "chameleon_gateway_ip=available_ips.pop(0)    \n",
    "chameleon_allocation_pool_start=available_ips[0]\n",
    "chameleon_allocation_pool_end=available_ips[10]\n",
    "\n",
    "print(f'fabric_gateway_ip: {fabric_gateway_ip}')\n",
    "print(f'chameleon_gateway_ip: {chameleon_gateway_ip}')\n",
    "print(f'chameleon_allocation_pool_start: {chameleon_allocation_pool_start}')\n",
    "print(f'chameleon_allocation_pool_end: {chameleon_allocation_pool_end}')"
   ]
  },
  {
   "cell_type": "code",
   "execution_count": null,
   "id": "0077833e-169a-4142-8381-822327989b32",
   "metadata": {},
   "outputs": [],
   "source": [
    "print(str(subnet))"
   ]
  },
  {
   "cell_type": "markdown",
   "id": "8ccbe74a-8506-4298-ad02-f013b7181df4",
   "metadata": {},
   "source": [
    "Add Chameleon subnets"
   ]
  },
  {
   "cell_type": "code",
   "execution_count": null,
   "id": "3a498866-7957-481c-8ba7-8328bd295ba2",
   "metadata": {},
   "outputs": [],
   "source": [
    "chi.use_site(chameleon_site_1)\n",
    "os.environ['OS_REGION_NAME'] = chameleon_site_1\n",
    "\n",
    "site_1_subnet_name = chameleon_subnet_name+site_1_suffix\n",
    "\n",
    "site_1_subnet = network_manager.create_subnet(site_1_subnet_name, site_1_network_id,\n",
    "                                         cidr=str(subnet),\n",
    "                                         allocation_pool_start=chameleon_allocation_pool_start,\n",
    "                                         allocation_pool_end=chameleon_allocation_pool_end,\n",
    "                                         gateway_ip=chameleon_gateway_ip)\n",
    "\n",
    "chi.neutron().update_subnet(subnet=site_1_subnet['id'] ,\n",
    "                                    body={\n",
    "                                         \"subnet\": { \n",
    "                                             \"host_routes\": [ \n",
    "                                                    {\n",
    "                                                        \"destination\": f\"{fablib.FABNETV4_SUBNET}\", \n",
    "                                                         \"nexthop\": f\"{fabric_gateway_ip}\"\n",
    "                                                    }\n",
    "                                             ] \n",
    "                                         }\n",
    "                                    })"
   ]
  },
  {
   "cell_type": "code",
   "execution_count": null,
   "id": "c7c086bb-fd5f-4540-b8a8-58b2b967d066",
   "metadata": {},
   "outputs": [],
   "source": [
    "chi.use_site(chameleon_site_2)\n",
    "os.environ['OS_REGION_NAME'] = chameleon_site_2\n",
    "\n",
    "site_2_subnet_name = chameleon_subnet_name+site_2_suffix\n",
    "\n",
    "site_2_subnet = network_manager.create_subnet(site_2_subnet_name, site_2_network_id,\n",
    "                                         cidr=str(subnet),\n",
    "                                         allocation_pool_start=chameleon_allocation_pool_start,\n",
    "                                         allocation_pool_end=chameleon_allocation_pool_end,\n",
    "                                         gateway_ip=chameleon_gateway_ip)\n",
    "\n",
    "chi.neutron().update_subnet(subnet=site_2_subnet['id'] ,\n",
    "                                    body={\n",
    "                                         \"subnet\": { \n",
    "                                             \"host_routes\": [ \n",
    "                                                    {\n",
    "                                                        \"destination\": f\"{fablib.FABNETV4_SUBNET}\", \n",
    "                                                         \"nexthop\": f\"{fabric_gateway_ip}\"\n",
    "                                                    }\n",
    "                                             ] \n",
    "                                         }\n",
    "                                    })"
   ]
  },
  {
   "cell_type": "markdown",
   "id": "36876885-aa7e-4c80-abb5-b5853802bab8",
   "metadata": {},
   "source": [
    "Add Chameleon routers"
   ]
  },
  {
   "cell_type": "code",
   "execution_count": null,
   "id": "bbed6717-77e3-4b51-8952-c30c58cb0d5f",
   "metadata": {},
   "outputs": [],
   "source": [
    "chi.use_site(chameleon_site_1)\n",
    "os.environ['OS_REGION_NAME'] = chameleon_site_1\n",
    "\n",
    "site_1_router_name = chameleon_router_name+site_1_suffix\n",
    "\n",
    "site_1_router = network_manager.create_router(site_1_router_name, gw_network_name='public')\n",
    "site_1_connection_port = network_manager.add_subnet_to_router_by_name(site_1_router_name, site_1_subnet_name)"
   ]
  },
  {
   "cell_type": "code",
   "execution_count": null,
   "id": "159de98b-7ba4-48f5-a72f-98f401d3f42f",
   "metadata": {},
   "outputs": [],
   "source": [
    "chi.use_site(chameleon_site_2)\n",
    "os.environ['OS_REGION_NAME'] = chameleon_site_2\n",
    "\n",
    "site_2_router_name = chameleon_router_name+site_2_suffix\n",
    "\n",
    "site_2_router = network_manager.create_router(site_2_router_name, gw_network_name='public')\n",
    "site_2_connection_port = network_manager.add_subnet_to_router_by_name(site_2_router_name, site_2_subnet_name)"
   ]
  },
  {
   "cell_type": "markdown",
   "id": "1b7eb758-2742-46f7-bdd8-f24c2a30553d",
   "metadata": {},
   "source": [
    "Start Chameleon servers"
   ]
  },
  {
   "cell_type": "code",
   "execution_count": null,
   "id": "c17fa585-c8f4-4f55-9892-3e08d01ef8f2",
   "metadata": {},
   "outputs": [],
   "source": [
    "chi.use_site(chameleon_site_1)\n",
    "os.environ['OS_REGION_NAME'] = chameleon_site_1\n",
    "\n",
    "site_1_servers = []\n",
    "site_1_server_ids = []\n",
    "\n",
    "site_1_server_name = chameleon_server_name+site_1_suffix\n",
    "\n",
    "for i in range(site_1_server_count):\n",
    "    server_name = f\"{site_1_server_name}_{i+1}\"\n",
    "    \n",
    "    site_1_servers.append(server_manager.create_server(server_name,\n",
    "                                               reservation_id=site_1_node_reservation_id,\n",
    "                                               network_name=site_1_network_name,\n",
    "                                               image_name=chameleon_image_name,\n",
    "                                               key_name=chameleon_key_name\n",
    "                                            ))\n",
    "    site_1_server_ids.append(server_manager.get_server_id(server_name))"
   ]
  },
  {
   "cell_type": "code",
   "execution_count": null,
   "id": "51263263-e747-4a2d-8bcd-106d20522c97",
   "metadata": {},
   "outputs": [],
   "source": [
    "chi.use_site(chameleon_site_2)\n",
    "os.environ['OS_REGION_NAME'] = chameleon_site_2\n",
    "\n",
    "site_2_servers = []\n",
    "site_2_server_ids = []\n",
    "\n",
    "site_2_server_name = chameleon_server_name+site_2_suffix\n",
    "\n",
    "for i in range(site_2_server_count):\n",
    "    server_name = f\"{site_2_server_name}_{i+1}\"\n",
    "    \n",
    "    site_2_servers.append(server_manager.create_server(server_name,\n",
    "                                               reservation_id=site_2_node_reservation_id,\n",
    "                                               network_name=site_2_network_name,\n",
    "                                               image_name=chameleon_image_name,\n",
    "                                               key_name=chameleon_key_name\n",
    "                                            ))\n",
    "    site_2_server_ids.append(server_manager.get_server_id(server_name))"
   ]
  },
  {
   "cell_type": "markdown",
   "id": "2342134c-28a2-4b1e-be88-ca04b5a85359",
   "metadata": {},
   "source": [
    "Wait for servers"
   ]
  },
  {
   "cell_type": "code",
   "execution_count": null,
   "id": "928ffce0-388c-4e10-b025-1e9622206a30",
   "metadata": {},
   "outputs": [],
   "source": [
    "chi.use_site(chameleon_site_1)\n",
    "os.environ['OS_REGION_NAME'] = chameleon_site_1\n",
    "\n",
    "for server in site_1_servers:\n",
    "    server_manager.wait_for_active(server.id)\n",
    "    \n",
    "chi.use_site(chameleon_site_2)\n",
    "os.environ['OS_REGION_NAME'] = chameleon_site_2\n",
    "\n",
    "for server in site_2_servers:\n",
    "    server_manager.wait_for_active(server.id)"
   ]
  },
  {
   "cell_type": "markdown",
   "id": "0c0e5f23-bca6-4831-8a55-f241d1e91921",
   "metadata": {},
   "source": [
    "Get server fixed IPs"
   ]
  },
  {
   "cell_type": "code",
   "execution_count": null,
   "id": "5e251ad5-118c-4ae6-b258-e3c724015d9d",
   "metadata": {},
   "outputs": [],
   "source": [
    "chi.use_site(chameleon_site_1)\n",
    "os.environ['OS_REGION_NAME'] = chameleon_site_1\n",
    "\n",
    "site_1_fixed_ips={}\n",
    "for i in range(site_1_server_count):\n",
    "    server_name = f\"{site_1_server_name}_{i+1}\"\n",
    "    server_id = server_manager.get_server_id(server_name)\n",
    "    fixed_ip = server_manager.get_server(server_id).interface_list()[0].to_dict()[\"fixed_ips\"][0][\"ip_address\"]\n",
    "    site_1_fixed_ips[server_name] = fixed_ip"
   ]
  },
  {
   "cell_type": "code",
   "execution_count": null,
   "id": "270bbfc4-13f2-4c37-a7fa-d8b5b109ce33",
   "metadata": {},
   "outputs": [],
   "source": [
    "chi.use_site(chameleon_site_2)\n",
    "os.environ['OS_REGION_NAME'] = chameleon_site_2\n",
    "\n",
    "site_2_fixed_ips={}\n",
    "for i in range(site_2_server_count):\n",
    "    server_name = f\"{site_2_server_name}_{i+1}\"\n",
    "    server_id = serverr_manager.get_server_id(server_name)\n",
    "    fixed_ip = server_manager.get_server(server_id).interface_list()[0].to_dict()[\"fixed_ips\"][0][\"ip_address\"]\n",
    "    site_2_fixed_ips[server_name] = fixed_ip"
   ]
  },
  {
   "cell_type": "markdown",
   "id": "a11698ac-5474-40a0-98c3-6ea0c8340d44",
   "metadata": {},
   "source": [
    "Run iPerf"
   ]
  },
  {
   "cell_type": "code",
   "execution_count": null,
   "id": "f210ddca-9528-43a8-84d4-c0f4c54d6786",
   "metadata": {},
   "outputs": [],
   "source": [
    "import paramiko\n",
    "import random\n",
    "\n",
    "node_1_addr=site_1_fixed_ips[f'{site_1_server_name}_{random.randint(1, site_1_server_count)}']\n",
    "node_2_addr=site_2_fixed_ips[f'{site_2_server_name}_{random.randint(1, site_2_server_count)}']\n",
    "\n",
    "key = paramiko.RSAKey.from_private_key_file(chameleon_key_path)\n",
    "client = paramiko.SSHClient()\n",
    "client.load_system_host_keys()\n",
    "client.set_missing_host_key_policy(paramiko.MissingHostKeyPolicy())\n",
    "\n",
    "client.set_missing_host_key_policy(paramiko.AutoAddPolicy())\n",
    "client.connect(node_1_addr,username='cc',pkey = key)\n",
    "\n",
    "stdin, stdout, stderr = client.exec_command('sudo apt -y install iperf3 2>&1 /dev/null && nohup iperf3 -s -1')\n",
    "print (stdout.read())\n",
    "print (stderr.read())\n",
    "\n",
    "client.close()\n",
    "\n",
    "key = paramiko.RSAKey.from_private_key_file(chameleon_key_path)\n",
    "client = paramiko.SSHClient()\n",
    "client.load_system_host_keys()\n",
    "client.set_missing_host_key_policy(paramiko.MissingHostKeyPolicy())\n",
    "\n",
    "client.set_missing_host_key_policy(paramiko.AutoAddPolicy())\n",
    "client.connect(node_2_addr,username='cc',pkey = key)\n",
    "\n",
    "stdin, stdout, stderr = client.exec_command(f'sudo apt -y install iperf3 2>&1 /dev/null && iperf3 -c {node_1_addr} -P 4 -t 30 -i 10 -O 10')\n",
    "print (stdout.read())\n",
    "print (stderr.read())\n",
    "\n",
    "client.close()"
   ]
  },
  {
   "cell_type": "markdown",
   "id": "dc1d8f68-f32e-4b81-bcc0-31fe87a45b4a",
   "metadata": {},
   "source": [
    "free FABRIC resources"
   ]
  },
  {
   "cell_type": "markdown",
   "id": "a744ac44-9c09-4fbd-bb51-35ce14e5a804",
   "metadata": {},
   "source": [
    "free Chameleon resources"
   ]
  },
  {
   "cell_type": "code",
   "execution_count": null,
   "id": "c5698479-4913-4e4b-8fa7-973ddd99d753",
   "metadata": {},
   "outputs": [],
   "source": [
    "chi.use_site(chameleon_site_1)\n",
    "os.environ['OS_REGION_NAME'] = chameleon_site_1\n",
    "\n",
    "for server_id in site_1_server_ids:\n",
    "    server_manager.delete_server(server_id)"
   ]
  },
  {
   "cell_type": "code",
   "execution_count": null,
   "id": "e11976d4-8dac-49d8-8d82-154ca43b24c1",
   "metadata": {},
   "outputs": [],
   "source": [
    "chi.use_site(chameleon_site_1)\n",
    "os.environ['OS_REGION_NAME'] = chameleon_site_1\n",
    "\n",
    "network_manager.nuke_network(site_1_network_id)"
   ]
  },
  {
   "cell_type": "code",
   "execution_count": null,
   "id": "f6a6d79e-9a21-460d-8150-327fda086314",
   "metadata": {},
   "outputs": [],
   "source": [
    "chi.use_site(chameleon_site_1)\n",
    "os.environ['OS_REGION_NAME'] = chameleon_site_1\n",
    "\n",
    "lease_manager.delete_lease(site_1_resource_lease_id)\n",
    "lease_manager.delete_lease(site_1_network_lease_id)"
   ]
  },
  {
   "cell_type": "code",
   "execution_count": null,
   "id": "5febdd84-8f68-4d8c-9355-16f1d346d342",
   "metadata": {},
   "outputs": [],
   "source": [
    "chi.use_site(chameleon_site_2)\n",
    "os.environ['OS_REGION_NAME'] = chameleon_site_2\n",
    "\n",
    "for server_id in site_2_server_ids:\n",
    "    server_manager.delete_server(server_id)"
   ]
  },
  {
   "cell_type": "code",
   "execution_count": null,
   "id": "4eb0782b-a21b-447b-8026-ef0ff2c76996",
   "metadata": {},
   "outputs": [],
   "source": [
    "chi.use_site(chameleon_site_2)\n",
    "os.environ['OS_REGION_NAME'] = chameleon_site_2\n",
    "\n",
    "network_manager.nuke_network(site_2_network_id)"
   ]
  },
  {
   "cell_type": "code",
   "execution_count": null,
   "id": "a047f6d3-dc52-4416-828c-d0e54ae771dc",
   "metadata": {},
   "outputs": [],
   "source": [
    "chi.use_site(chameleon_site_2)\n",
    "os.environ['OS_REGION_NAME'] = chameleon_site_2\n",
    "\n",
    "lease_manager.delete_lease(site_2_resource_lease_id)\n",
    "lease_manager.delete_lease(site_2_network_lease_id)"
   ]
  }
 ],
 "metadata": {
  "kernelspec": {
   "display_name": "Python 3 (ipykernel)",
   "language": "python",
   "name": "python3"
  },
  "language_info": {
   "codemirror_mode": {
    "name": "ipython",
    "version": 3
   },
   "file_extension": ".py",
   "mimetype": "text/x-python",
   "name": "python",
   "nbconvert_exporter": "python",
   "pygments_lexer": "ipython3",
   "version": "3.10.9"
  }
 },
 "nbformat": 4,
 "nbformat_minor": 5
}
