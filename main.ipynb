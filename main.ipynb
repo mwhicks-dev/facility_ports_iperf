{
 "cells": [
  {
   "cell_type": "markdown",
   "id": "ac575437-37a7-4897-9101-82693a63eb1e",
   "metadata": {},
   "source": [
    "Chameleon/FABRIC setup"
   ]
  },
  {
   "cell_type": "code",
   "execution_count": 1,
   "id": "3ce5d786-2a1f-4e2a-a98f-34788e5b57fb",
   "metadata": {},
   "outputs": [],
   "source": [
    "#General imports\n",
    "import os\n",
    "import json\n",
    "import traceback\n",
    "from ipaddress import ip_address, IPv4Address, IPv6Address, IPv4Network, IPv6Network\n",
    "from datetime import datetime, timedelta\n",
    "from dateutil import tz\n",
    "import time\n",
    "\n",
    "# Chameleon Library\n",
    "import chi\n",
    "import chi.lease as lease_manager\n",
    "import chi.server as server_manager\n",
    "import chi.network as network_manager\n",
    "\n",
    "BLAZAR_TIME_FORMAT = '%Y-%m-%d %H:%M'\n",
    "\n",
    "# FABRIC Library\n",
    "from fabrictestbed_extensions.fablib.fablib import FablibManager as fablib_manager"
   ]
  },
  {
   "cell_type": "code",
   "execution_count": 2,
   "id": "365465ad-a938-4c18-98cc-a3c5ec72672c",
   "metadata": {},
   "outputs": [],
   "source": [
    "# Change to your project (CHI-XXXXXX) \n",
    "chi.set(\"project_name\", \"CH-822154\")\n",
    "\n",
    "chameleon_prefix =  f'{os.environ[\"USER\"]}_fabric_iperf'\n",
    "chameleon_server_name = chameleon_prefix+'_server'\n",
    "chameleon_network_name = chameleon_prefix+'_net'\n",
    "chameleon_subnet_name = chameleon_prefix+'_subnet'\n",
    "chameleon_router_name = chameleon_prefix+'_router'\n",
    "chameleon_lease_name = chameleon_prefix+'_lease'\n",
    "\n",
    "chameleon_image_name='CC-Ubuntu20.04'\n",
    "\n",
    "chameleon_site_1='CHI@TACC'\n",
    "site_1_suffix='_tacc'\n",
    "site_1_server_count=1\n",
    "\n",
    "chameleon_site_2='CHI@UC'\n",
    "site_2_suffix='_uc'\n",
    "site_2_server_count=1\n",
    "\n",
    "chameleon_key_name='chameleon_key_desktop'\n",
    "chameleon_key_path='/home/mwhicks2_ncsu_edu/work/.ssh/my_chameleon_key.pem'"
   ]
  },
  {
   "cell_type": "code",
   "execution_count": 13,
   "id": "59489ff7-1d14-499e-81dc-c13445f08af5",
   "metadata": {},
   "outputs": [
    {
     "data": {
      "text/html": [
       "<style type=\"text/css\">\n",
       "#T_a7bc5 tr:nth-child(even) {\n",
       "  background: #dbf3ff;\n",
       "  color: #231f20;\n",
       "}\n",
       "#T_a7bc5 tr:nth-child(odd) {\n",
       "  background: #ffffff;\n",
       "  color: #231f20;\n",
       "}\n",
       "#T_a7bc5 caption {\n",
       "  text-align: center;\n",
       "  font-size: 150%;\n",
       "}\n",
       "#T_a7bc5_row0_col0, #T_a7bc5_row0_col1, #T_a7bc5_row1_col0, #T_a7bc5_row1_col1, #T_a7bc5_row2_col0, #T_a7bc5_row2_col1, #T_a7bc5_row3_col0, #T_a7bc5_row3_col1, #T_a7bc5_row4_col0, #T_a7bc5_row4_col1, #T_a7bc5_row5_col0, #T_a7bc5_row5_col1, #T_a7bc5_row6_col0, #T_a7bc5_row6_col1, #T_a7bc5_row7_col0, #T_a7bc5_row7_col1, #T_a7bc5_row8_col0, #T_a7bc5_row8_col1, #T_a7bc5_row9_col0, #T_a7bc5_row9_col1, #T_a7bc5_row10_col0, #T_a7bc5_row10_col1, #T_a7bc5_row11_col0, #T_a7bc5_row11_col1, #T_a7bc5_row12_col0, #T_a7bc5_row12_col1, #T_a7bc5_row13_col0, #T_a7bc5_row13_col1 {\n",
       "  text-align: left;\n",
       "  border: 1px #231f20 solid !important;\n",
       "  overwrite: False;\n",
       "}\n",
       "</style>\n",
       "<table id=\"T_a7bc5\">\n",
       "  <caption>FABlib Config</caption>\n",
       "  <thead>\n",
       "  </thead>\n",
       "  <tbody>\n",
       "    <tr>\n",
       "      <td id=\"T_a7bc5_row0_col0\" class=\"data row0 col0\" >Credential Manager</td>\n",
       "      <td id=\"T_a7bc5_row0_col1\" class=\"data row0 col1\" >cm.fabric-testbed.net</td>\n",
       "    </tr>\n",
       "    <tr>\n",
       "      <td id=\"T_a7bc5_row1_col0\" class=\"data row1 col0\" >Orchestrator</td>\n",
       "      <td id=\"T_a7bc5_row1_col1\" class=\"data row1 col1\" >orchestrator.fabric-testbed.net</td>\n",
       "    </tr>\n",
       "    <tr>\n",
       "      <td id=\"T_a7bc5_row2_col0\" class=\"data row2 col0\" >Token File</td>\n",
       "      <td id=\"T_a7bc5_row2_col1\" class=\"data row2 col1\" >/home/mwhicks2_ncsu_edu/work/fabric_config/id_token.json</td>\n",
       "    </tr>\n",
       "    <tr>\n",
       "      <td id=\"T_a7bc5_row3_col0\" class=\"data row3 col0\" >Project ID</td>\n",
       "      <td id=\"T_a7bc5_row3_col1\" class=\"data row3 col1\" >1630021f-0a0c-4792-a241-997f410d36e1</td>\n",
       "    </tr>\n",
       "    <tr>\n",
       "      <td id=\"T_a7bc5_row4_col0\" class=\"data row4 col0\" >Bastion Username</td>\n",
       "      <td id=\"T_a7bc5_row4_col1\" class=\"data row4 col1\" >mwhicks2_0037146471</td>\n",
       "    </tr>\n",
       "    <tr>\n",
       "      <td id=\"T_a7bc5_row5_col0\" class=\"data row5 col0\" >Bastion Private Key File</td>\n",
       "      <td id=\"T_a7bc5_row5_col1\" class=\"data row5 col1\" >/home/mwhicks2_ncsu_edu/work/fabric_config/fabric_bastion_key_mobile</td>\n",
       "    </tr>\n",
       "    <tr>\n",
       "      <td id=\"T_a7bc5_row6_col0\" class=\"data row6 col0\" >Bastion Host</td>\n",
       "      <td id=\"T_a7bc5_row6_col1\" class=\"data row6 col1\" >bastion.fabric-testbed.net</td>\n",
       "    </tr>\n",
       "    <tr>\n",
       "      <td id=\"T_a7bc5_row7_col0\" class=\"data row7 col0\" >Bastion Private Key Passphrase</td>\n",
       "      <td id=\"T_a7bc5_row7_col1\" class=\"data row7 col1\" >None</td>\n",
       "    </tr>\n",
       "    <tr>\n",
       "      <td id=\"T_a7bc5_row8_col0\" class=\"data row8 col0\" >Slice Public Key File</td>\n",
       "      <td id=\"T_a7bc5_row8_col1\" class=\"data row8 col1\" >/home/mwhicks2_ncsu_edu/work/fabric_config/slice_key.pub</td>\n",
       "    </tr>\n",
       "    <tr>\n",
       "      <td id=\"T_a7bc5_row9_col0\" class=\"data row9 col0\" >Slice Private Key File</td>\n",
       "      <td id=\"T_a7bc5_row9_col1\" class=\"data row9 col1\" >/home/mwhicks2_ncsu_edu/work/fabric_config/slice_key</td>\n",
       "    </tr>\n",
       "    <tr>\n",
       "      <td id=\"T_a7bc5_row10_col0\" class=\"data row10 col0\" >Slice Private Key Passphrase</td>\n",
       "      <td id=\"T_a7bc5_row10_col1\" class=\"data row10 col1\" >None</td>\n",
       "    </tr>\n",
       "    <tr>\n",
       "      <td id=\"T_a7bc5_row11_col0\" class=\"data row11 col0\" >Log File</td>\n",
       "      <td id=\"T_a7bc5_row11_col1\" class=\"data row11 col1\" >/home/mwhicks2_ncsu_edu/fablib.log</td>\n",
       "    </tr>\n",
       "    <tr>\n",
       "      <td id=\"T_a7bc5_row12_col0\" class=\"data row12 col0\" >Log Level</td>\n",
       "      <td id=\"T_a7bc5_row12_col1\" class=\"data row12 col1\" >INFO</td>\n",
       "    </tr>\n",
       "    <tr>\n",
       "      <td id=\"T_a7bc5_row13_col0\" class=\"data row13 col0\" >Version</td>\n",
       "      <td id=\"T_a7bc5_row13_col1\" class=\"data row13 col1\" >1.5.0</td>\n",
       "    </tr>\n",
       "  </tbody>\n",
       "</table>\n"
      ],
      "text/plain": [
       "<pandas.io.formats.style.Styler at 0x7f5da83eb790>"
      ]
     },
     "metadata": {},
     "output_type": "display_data"
    }
   ],
   "source": [
    "fablib = fablib_manager()\n",
    "fablib.show_config()\n",
    "\n",
    "fabric_slice_name='chameleon_stitch'\n",
    "\n",
    "fabric_site_1='TACC'\n",
    "site_1_slice_name=\"tacc_stitch\"\n",
    "site_1_facility_port='Chameleon-TACC'\n",
    "\n",
    "fabric_site_2='STAR'\n",
    "site_2_slice_name=\"chicago_stitch\"\n",
    "site_2_facility_port='Chameleon-StarLight'"
   ]
  },
  {
   "cell_type": "markdown",
   "id": "da807a6e-b409-4201-bcfa-343f1bd1d9ad",
   "metadata": {},
   "source": [
    "Make Chameleon reservations"
   ]
  },
  {
   "cell_type": "code",
   "execution_count": 4,
   "id": "5a657400-6573-4319-8d8f-f33ce32033bd",
   "metadata": {},
   "outputs": [],
   "source": [
    "site_1_resource_lease_id='44b3f34b-cc36-42cd-a8d6-c886660856c4'\n",
    "site_2_resource_lease_id=None"
   ]
  },
  {
   "cell_type": "code",
   "execution_count": 6,
   "id": "a50323bc-64b7-40ee-bdd5-828bbe9b11f0",
   "metadata": {},
   "outputs": [
    {
     "name": "stdout",
     "output_type": "stream",
     "text": [
      "Now using CHI@TACC:\n",
      "URL: https://chi.tacc.chameleoncloud.org\n",
      "Location: Austin, Texas, USA\n",
      "Support contact: help@chameleoncloud.org\n"
     ]
    }
   ],
   "source": [
    "chi.use_site(chameleon_site_1)\n",
    "os.environ['OS_REGION_NAME'] = chameleon_site_1\n",
    "\n",
    "# create or get facilities lease\n",
    "if site_1_resource_lease_id is None:\n",
    "    # set start/end dates\n",
    "    start_date = (datetime.now(tz=tz.tzutc()) + timedelta(minutes=1)).strftime(BLAZAR_TIME_FORMAT)\n",
    "    end_date = (datetime.now(tz=tz.tzutc()) + timedelta(hours=1)).strftime(BLAZAR_TIME_FORMAT)\n",
    "    \n",
    "    # create lease reservations\n",
    "    site_1_resource_reservations = []\n",
    "    lease_manager.add_node_reservation(site_1_resource_reservations, count=site_1_server_count)\n",
    "    lease_manager.add_fip_reservation(site_1_resource_reservations, count=site_1_server_count)\n",
    "    \n",
    "    # create lease\n",
    "    site_1_resource_lease_name = chameleon_lease_name+'_resources'+site_1_suffix\n",
    "    site_1_resource_lease = lease_manager.create_lease(site_1_resource_lease_name,\n",
    "                                                      reservations=site_1_resource_reservations,\n",
    "                                                      start_date=start_date,\n",
    "                                                      end_date=end_date)\n",
    "    site_1_resource_lease_id = lease_manager.get_lease_id(site_1_resource_lease_name)\n",
    "# get lease info\n",
    "site_1_node_reservation_id = lease_manager.get_node_reservation(site_1_resource_lease_id)\n",
    "\n",
    "# set start/end dates\n",
    "start_date = (datetime.now(tz=tz.tzutc()) + timedelta(minutes=1)).strftime(BLAZAR_TIME_FORMAT)\n",
    "end_date = (datetime.now(tz=tz.tzutc()) + timedelta(hours=1)).strftime(BLAZAR_TIME_FORMAT)\n",
    "\n",
    "# create network lease reservations\n",
    "site_1_network_name = chameleon_network_name+site_1_suffix\n",
    "site_1_network_reservations = []\n",
    "site_1_network_reservations.append(\n",
    "        {\n",
    "            \"resource_type\": \"network\",\n",
    "            \"network_name\": site_1_network_name,\n",
    "            \"network_properties\": \"\",\n",
    "            \"resource_properties\": json.dumps(\n",
    "                [\"==\", \"$stitch_provider\", 'fabric']\n",
    "            ),\n",
    "        }\n",
    ")\n",
    "\n",
    "# create network lease\n",
    "site_1_network_lease_name = chameleon_lease_name+'_network'+site_1_suffix\n",
    "site_1_network_lease = lease_manager.create_lease(site_1_network_lease_name,\n",
    "                                                 reservations=site_1_network_reservations,\n",
    "                                                 start_date=start_date,\n",
    "                                                 end_date=end_date)\n",
    "site_1_network_lease_id = lease_manager.get_lease_id(site_1_network_lease_name)\n",
    "\n",
    "# get lease info\n",
    "site_1_network_reservation_id = [reservation for reservation in site_1_network_lease['reservations'] if reservation['resource_type'] == 'network'][0]['id']"
   ]
  },
  {
   "cell_type": "code",
   "execution_count": 7,
   "id": "574835cd-80f4-416c-82e5-374162bed656",
   "metadata": {},
   "outputs": [
    {
     "name": "stdout",
     "output_type": "stream",
     "text": [
      "Now using CHI@UC:\n",
      "URL: https://chi.uc.chameleoncloud.org\n",
      "Location: Argonne National Laboratory, Lemont, Illinois, USA\n",
      "Support contact: help@chameleoncloud.org\n"
     ]
    }
   ],
   "source": [
    "chi.use_site(chameleon_site_2)\n",
    "os.environ['OS_REGION_NAME'] = chameleon_site_2\n",
    "\n",
    "# create or get facilities lease\n",
    "if site_2_resource_lease_id is None:\n",
    "    # reset start/end dates\n",
    "    start_date = (datetime.now(tz=tz.tzutc()) + timedelta(minutes=1)).strftime(BLAZAR_TIME_FORMAT)\n",
    "    end_date = (datetime.now(tz=tz.tzutc()) + timedelta(hours=1)).strftime(BLAZAR_TIME_FORMAT)\n",
    "    \n",
    "    # create lease reservations\n",
    "    site_2_resource_reservations = []\n",
    "    lease_manager.add_node_reservation(site_2_resource_reservations, count=site_2_server_count)\n",
    "    lease_manager.add_fip_reservation(site_2_resource_reservations, count=site_2_server_count)\n",
    "    \n",
    "    # create lease\n",
    "    site_2_resource_lease_name = chameleon_lease_name+'_resources'+site_2_suffix\n",
    "    site_2_resource_lease = lease_manager.create_lease(site_2_resource_lease_name,\n",
    "                                                      reservations=site_2_resource_reservations,\n",
    "                                                      start_date=start_date,\n",
    "                                                      end_date=end_date)\n",
    "    site_2_resource_lease_id = lease_manager.get_lease_id(site_2_resource_lease_name)\n",
    "# get lease info\n",
    "site_2_node_reservation_id = lease_manager.get_node_reservation(site_2_resource_lease_id)\n",
    "\n",
    "# set start/end dates\n",
    "start_date = (datetime.now(tz=tz.tzutc()) + timedelta(minutes=1)).strftime(BLAZAR_TIME_FORMAT)\n",
    "end_date = (datetime.now(tz=tz.tzutc()) + timedelta(hours=1)).strftime(BLAZAR_TIME_FORMAT)\n",
    "\n",
    "# create network lease reservations\n",
    "site_2_network_name = chameleon_network_name+site_2_suffix\n",
    "site_2_network_reservations = []\n",
    "site_2_network_reservations.append(\n",
    "        {\n",
    "            \"resource_type\": \"network\",\n",
    "            \"network_name\": site_2_network_name,\n",
    "            \"network_properties\": \"\",\n",
    "            \"resource_properties\": json.dumps(\n",
    "                [\"==\", \"$stitch_provider\", 'fabric']\n",
    "            ),\n",
    "        }\n",
    ")\n",
    "\n",
    "# create network lease\n",
    "site_2_network_lease_name = chameleon_lease_name+'_network'+site_2_suffix\n",
    "site_2_network_lease = lease_manager.create_lease(site_2_network_lease_name,\n",
    "                                                 reservations=site_2_network_reservations,\n",
    "                                                 start_date=start_date,\n",
    "                                                 end_date=end_date)\n",
    "site_2_network_lease_id = lease_manager.get_lease_id(site_2_network_lease_name)\n",
    "\n",
    "# get lease info\n",
    "site_2_network_reservation_id = [reservation for reservation in site_2_network_lease['reservations'] if reservation['resource_type'] == 'network'][0]['id']"
   ]
  },
  {
   "cell_type": "markdown",
   "id": "1252a604-986f-4f6e-b73a-19d95db905b5",
   "metadata": {},
   "source": [
    "Check networks"
   ]
  },
  {
   "cell_type": "code",
   "execution_count": 11,
   "id": "e49ad4f3-25d4-4e0c-815e-711e6fa8fc7e",
   "metadata": {},
   "outputs": [
    {
     "name": "stdout",
     "output_type": "stream",
     "text": [
      "Now using CHI@TACC:\n",
      "URL: https://chi.tacc.chameleoncloud.org\n",
      "Location: Austin, Texas, USA\n",
      "Support contact: help@chameleoncloud.org\n",
      "Now using CHI@UC:\n",
      "URL: https://chi.uc.chameleoncloud.org\n",
      "Location: Argonne National Laboratory, Lemont, Illinois, USA\n",
      "Support contact: help@chameleoncloud.org\n"
     ]
    }
   ],
   "source": [
    "site_1_network_vlan = site_2_network_vlan = None\n",
    "site_1_network_id = site_2_network_id = None\n",
    "\n",
    "# uc check\n",
    "chi.use_site(chameleon_site_1)\n",
    "os.environ['OS_REGION_NAME'] = chameleon_site_1\n",
    "\n",
    "#Get the network\n",
    "site_1_network = network_manager.get_network(site_1_network_name)\n",
    "\n",
    "#Get the network ID\n",
    "site_1_network_id = site_1_network['id']\n",
    "\n",
    "#Get the VLAN tag (needed for FABRIC stitching)\n",
    "site_1_network_vlan = site_1_network['provider:segmentation_id']\n",
    "\n",
    "# tacc check\n",
    "chi.use_site(chameleon_site_2)\n",
    "os.environ['OS_REGION_NAME'] = chameleon_site_2\n",
    "\n",
    "#Get the network\n",
    "site_2_network = network_manager.get_network(site_2_network_name)\n",
    "\n",
    "#Get the network ID\n",
    "site_2_network_id = site_2_network['id']\n",
    "\n",
    "#Get the VLAN tag (needed for FABRIC stitching)\n",
    "site_2_network_vlan = site_2_network['provider:segmentation_id']"
   ]
  },
  {
   "cell_type": "markdown",
   "id": "4ff3889e-c914-46c6-bd2e-65ec9642388e",
   "metadata": {},
   "source": [
    "FABRIC network slice"
   ]
  },
  {
   "cell_type": "code",
   "execution_count": 21,
   "id": "ca7a969c-6abb-42ae-8ada-897ccef87b49",
   "metadata": {},
   "outputs": [],
   "source": [
    "fabric_slice = fablib.new_slice(name=fabric_slice_name)\n",
    "\n",
    "site_1_facility_port = fabric_slice.add_facility_port(name=site_1_facility_port, site=fabric_site_1, vlan=str(site_1_network_vlan))\n",
    "site_1_facility_port_iface = site_1_facility_port.get_interfaces()[0]\n",
    "site_2_facility_port = fabric_slice.add_facility_port(name=site_2_facility_port, site=fabric_site_2, vlan=str(site_2_network_vlan))\n",
    "site_2_facility_port_iface = site_2_facility_port.get_interfaces()[0]\n",
    "\n",
    "fabric_net = fabric_slice.add_l3network(name=f'facility_port_fabnetv4', interfaces=[site_1_facility_port_iface, site_2_facility_port_iface])\n",
    "\n",
    "fabric_slice.submit()\n",
    "fabric_slice = fablib.get_slice(name=fabric_slice_name)"
   ]
  },
  {
   "cell_type": "code",
   "execution_count": 16,
   "id": "ee0de296-5015-4039-8ce2-ad2e1a7655e0",
   "metadata": {},
   "outputs": [
    {
     "name": "stdout",
     "output_type": "stream",
     "text": [
      "fabric_gateway_ip: facility_port_fabnetv4.gateway\n",
      "chameleon_gateway_ip: a\n",
      "chameleon_allocation_pool_start: c\n",
      "chameleon_allocation_pool_end: t\n"
     ]
    }
   ],
   "source": [
    "fabric_network = fabric_slice.get_network('facility_port_fabnetv4')\n",
    "\n",
    "subnet = fabric_network.get_subnet()\n",
    "fabric_gateway_ip = fabric_network.get_gateway()\n",
    "\n",
    "available_ips = list(subnet)[1:]\n",
    "\n",
    "chameleon_gateway_ip=available_ips.pop(0)    \n",
    "chameleon_allocation_pool_start=available_ips[0]\n",
    "chameleon_allocation_pool_end=available_ips[10]\n",
    "\n",
    "print(f'fabric_gateway_ip: {fabric_gateway_ip}')\n",
    "print(f'chameleon_gateway_ip: {chameleon_gateway_ip}')\n",
    "print(f'chameleon_allocation_pool_start: {chameleon_allocation_pool_start}')\n",
    "print(f'chameleon_allocation_pool_end: {chameleon_allocation_pool_end}')"
   ]
  },
  {
   "cell_type": "code",
   "execution_count": 19,
   "id": "0077833e-169a-4142-8381-822327989b32",
   "metadata": {},
   "outputs": [
    {
     "name": "stdout",
     "output_type": "stream",
     "text": [
      "facility_port_fabnetv4.subnet\n"
     ]
    }
   ],
   "source": [
    "print(str(subnet))"
   ]
  },
  {
   "cell_type": "markdown",
   "id": "8ccbe74a-8506-4298-ad02-f013b7181df4",
   "metadata": {},
   "source": [
    "Add Chameleon subnets"
   ]
  },
  {
   "cell_type": "code",
   "execution_count": 17,
   "id": "3a498866-7957-481c-8ba7-8328bd295ba2",
   "metadata": {},
   "outputs": [
    {
     "name": "stdout",
     "output_type": "stream",
     "text": [
      "Now using CHI@TACC:\n",
      "URL: https://chi.tacc.chameleoncloud.org\n",
      "Location: Austin, Texas, USA\n",
      "Support contact: help@chameleoncloud.org\n"
     ]
    },
    {
     "ename": "BadRequest",
     "evalue": "Invalid input for operation: facility_port_fabnetv4.subnet is not in a CIDR format.\nNeutron server returns request_ids: ['req-95ee7f5a-c22c-4bef-9548-b9a105efd91b']",
     "output_type": "error",
     "traceback": [
      "\u001b[0;31m---------------------------------------------------------------------------\u001b[0m",
      "\u001b[0;31mBadRequest\u001b[0m                                Traceback (most recent call last)",
      "Cell \u001b[0;32mIn[17], line 5\u001b[0m\n\u001b[1;32m      1\u001b[0m chi\u001b[38;5;241m.\u001b[39muse_site(chameleon_site_1)\n\u001b[1;32m      3\u001b[0m site_1_subnet_name \u001b[38;5;241m=\u001b[39m chameleon_subnet_name\u001b[38;5;241m+\u001b[39msite_1_suffix\n\u001b[0;32m----> 5\u001b[0m site_1_subnet \u001b[38;5;241m=\u001b[39m \u001b[43mnetwork_manager\u001b[49m\u001b[38;5;241;43m.\u001b[39;49m\u001b[43mcreate_subnet\u001b[49m\u001b[43m(\u001b[49m\u001b[43msite_1_subnet_name\u001b[49m\u001b[43m,\u001b[49m\u001b[43m \u001b[49m\u001b[43msite_1_network_id\u001b[49m\u001b[43m,\u001b[49m\n\u001b[1;32m      6\u001b[0m \u001b[43m                                         \u001b[49m\u001b[43mcidr\u001b[49m\u001b[38;5;241;43m=\u001b[39;49m\u001b[38;5;28;43mstr\u001b[39;49m\u001b[43m(\u001b[49m\u001b[43msubnet\u001b[49m\u001b[43m)\u001b[49m\u001b[43m,\u001b[49m\n\u001b[1;32m      7\u001b[0m \u001b[43m                                         \u001b[49m\u001b[43mallocation_pool_start\u001b[49m\u001b[38;5;241;43m=\u001b[39;49m\u001b[43mchameleon_allocation_pool_start\u001b[49m\u001b[43m,\u001b[49m\n\u001b[1;32m      8\u001b[0m \u001b[43m                                         \u001b[49m\u001b[43mallocation_pool_end\u001b[49m\u001b[38;5;241;43m=\u001b[39;49m\u001b[43mchameleon_allocation_pool_end\u001b[49m\u001b[43m,\u001b[49m\n\u001b[1;32m      9\u001b[0m \u001b[43m                                         \u001b[49m\u001b[43mgateway_ip\u001b[49m\u001b[38;5;241;43m=\u001b[39;49m\u001b[43mchameleon_gateway_ip\u001b[49m\u001b[43m)\u001b[49m\n\u001b[1;32m     11\u001b[0m chi\u001b[38;5;241m.\u001b[39mneutron()\u001b[38;5;241m.\u001b[39mupdate_subnet(subnet\u001b[38;5;241m=\u001b[39msite_1_subnet[\u001b[38;5;124m'\u001b[39m\u001b[38;5;124mid\u001b[39m\u001b[38;5;124m'\u001b[39m] ,\n\u001b[1;32m     12\u001b[0m                                     body\u001b[38;5;241m=\u001b[39m{\n\u001b[1;32m     13\u001b[0m                                          \u001b[38;5;124m\"\u001b[39m\u001b[38;5;124msubnet\u001b[39m\u001b[38;5;124m\"\u001b[39m: { \n\u001b[0;32m   (...)\u001b[0m\n\u001b[1;32m     20\u001b[0m                                          }\n\u001b[1;32m     21\u001b[0m                                     })\n",
      "File \u001b[0;32m/opt/conda/lib/python3.10/site-packages/chi/network.py:261\u001b[0m, in \u001b[0;36mcreate_subnet\u001b[0;34m(subnet_name, network_id, cidr, allocation_pool_start, allocation_pool_end, gateway_ip)\u001b[0m\n\u001b[1;32m    252\u001b[0m \u001b[38;5;28;01mif\u001b[39;00m allocation_pool_start \u001b[38;5;129;01mand\u001b[39;00m allocation_pool_end:\n\u001b[1;32m    253\u001b[0m     subnet[\u001b[38;5;124m'\u001b[39m\u001b[38;5;124mallocation_pools\u001b[39m\u001b[38;5;124m'\u001b[39m]\u001b[38;5;241m=\u001b[39m [\n\u001b[1;32m    254\u001b[0m         {\n\u001b[1;32m    255\u001b[0m         \u001b[38;5;124m\"\u001b[39m\u001b[38;5;124mstart\u001b[39m\u001b[38;5;124m\"\u001b[39m: allocation_pool_start,\n\u001b[1;32m    256\u001b[0m         \u001b[38;5;124m\"\u001b[39m\u001b[38;5;124mend\u001b[39m\u001b[38;5;124m\"\u001b[39m: allocation_pool_end,\n\u001b[1;32m    257\u001b[0m         }\n\u001b[1;32m    258\u001b[0m     ]\n\u001b[0;32m--> 261\u001b[0m subnet_rtn \u001b[38;5;241m=\u001b[39m \u001b[43mneutron\u001b[49m\u001b[43m(\u001b[49m\u001b[43m)\u001b[49m\u001b[38;5;241;43m.\u001b[39;49m\u001b[43mcreate_subnet\u001b[49m\u001b[43m(\u001b[49m\u001b[43mbody\u001b[49m\u001b[38;5;241;43m=\u001b[39;49m\u001b[43m{\u001b[49m\n\u001b[1;32m    262\u001b[0m \u001b[43m    \u001b[49m\u001b[38;5;124;43m'\u001b[39;49m\u001b[38;5;124;43msubnets\u001b[39;49m\u001b[38;5;124;43m'\u001b[39;49m\u001b[43m:\u001b[49m\u001b[43m \u001b[49m\u001b[43m[\u001b[49m\u001b[43m \u001b[49m\u001b[43msubnet\u001b[49m\u001b[43m \u001b[49m\u001b[43m]\u001b[49m\n\u001b[1;32m    263\u001b[0m \u001b[43m\u001b[49m\u001b[43m}\u001b[49m\u001b[43m)\u001b[49m\n\u001b[1;32m    265\u001b[0m \u001b[38;5;28;01mreturn\u001b[39;00m subnet_rtn[\u001b[38;5;124m'\u001b[39m\u001b[38;5;124msubnets\u001b[39m\u001b[38;5;124m'\u001b[39m][\u001b[38;5;241m0\u001b[39m]\n",
      "File \u001b[0;32m/opt/conda/lib/python3.10/site-packages/neutronclient/v2_0/client.py:879\u001b[0m, in \u001b[0;36mClient.create_subnet\u001b[0;34m(self, body)\u001b[0m\n\u001b[1;32m    877\u001b[0m \u001b[38;5;28;01mdef\u001b[39;00m \u001b[38;5;21mcreate_subnet\u001b[39m(\u001b[38;5;28mself\u001b[39m, body\u001b[38;5;241m=\u001b[39m\u001b[38;5;28;01mNone\u001b[39;00m):\n\u001b[1;32m    878\u001b[0m     \u001b[38;5;124;03m\"\"\"Creates a new subnet.\"\"\"\u001b[39;00m\n\u001b[0;32m--> 879\u001b[0m     \u001b[38;5;28;01mreturn\u001b[39;00m \u001b[38;5;28;43mself\u001b[39;49m\u001b[38;5;241;43m.\u001b[39;49m\u001b[43mpost\u001b[49m\u001b[43m(\u001b[49m\u001b[38;5;28;43mself\u001b[39;49m\u001b[38;5;241;43m.\u001b[39;49m\u001b[43msubnets_path\u001b[49m\u001b[43m,\u001b[49m\u001b[43m \u001b[49m\u001b[43mbody\u001b[49m\u001b[38;5;241;43m=\u001b[39;49m\u001b[43mbody\u001b[49m\u001b[43m)\u001b[49m\n",
      "File \u001b[0;32m/opt/conda/lib/python3.10/site-packages/neutronclient/v2_0/client.py:361\u001b[0m, in \u001b[0;36mClientBase.post\u001b[0;34m(self, action, body, headers, params)\u001b[0m\n\u001b[1;32m    359\u001b[0m \u001b[38;5;28;01mdef\u001b[39;00m \u001b[38;5;21mpost\u001b[39m(\u001b[38;5;28mself\u001b[39m, action, body\u001b[38;5;241m=\u001b[39m\u001b[38;5;28;01mNone\u001b[39;00m, headers\u001b[38;5;241m=\u001b[39m\u001b[38;5;28;01mNone\u001b[39;00m, params\u001b[38;5;241m=\u001b[39m\u001b[38;5;28;01mNone\u001b[39;00m):\n\u001b[1;32m    360\u001b[0m     \u001b[38;5;66;03m# Do not retry POST requests to avoid the orphan objects problem.\u001b[39;00m\n\u001b[0;32m--> 361\u001b[0m     \u001b[38;5;28;01mreturn\u001b[39;00m \u001b[38;5;28;43mself\u001b[39;49m\u001b[38;5;241;43m.\u001b[39;49m\u001b[43mdo_request\u001b[49m\u001b[43m(\u001b[49m\u001b[38;5;124;43m\"\u001b[39;49m\u001b[38;5;124;43mPOST\u001b[39;49m\u001b[38;5;124;43m\"\u001b[39;49m\u001b[43m,\u001b[49m\u001b[43m \u001b[49m\u001b[43maction\u001b[49m\u001b[43m,\u001b[49m\u001b[43m \u001b[49m\u001b[43mbody\u001b[49m\u001b[38;5;241;43m=\u001b[39;49m\u001b[43mbody\u001b[49m\u001b[43m,\u001b[49m\n\u001b[1;32m    362\u001b[0m \u001b[43m                           \u001b[49m\u001b[43mheaders\u001b[49m\u001b[38;5;241;43m=\u001b[39;49m\u001b[43mheaders\u001b[49m\u001b[43m,\u001b[49m\u001b[43m \u001b[49m\u001b[43mparams\u001b[49m\u001b[38;5;241;43m=\u001b[39;49m\u001b[43mparams\u001b[49m\u001b[43m)\u001b[49m\n",
      "File \u001b[0;32m/opt/conda/lib/python3.10/site-packages/neutronclient/v2_0/client.py:297\u001b[0m, in \u001b[0;36mClientBase.do_request\u001b[0;34m(self, method, action, body, headers, params)\u001b[0m\n\u001b[1;32m    295\u001b[0m \u001b[38;5;28;01mif\u001b[39;00m \u001b[38;5;129;01mnot\u001b[39;00m replybody:\n\u001b[1;32m    296\u001b[0m     replybody \u001b[38;5;241m=\u001b[39m resp\u001b[38;5;241m.\u001b[39mreason\n\u001b[0;32m--> 297\u001b[0m \u001b[38;5;28;43mself\u001b[39;49m\u001b[38;5;241;43m.\u001b[39;49m\u001b[43m_handle_fault_response\u001b[49m\u001b[43m(\u001b[49m\u001b[43mstatus_code\u001b[49m\u001b[43m,\u001b[49m\u001b[43m \u001b[49m\u001b[43mreplybody\u001b[49m\u001b[43m,\u001b[49m\u001b[43m \u001b[49m\u001b[43mresp\u001b[49m\u001b[43m)\u001b[49m\n",
      "File \u001b[0;32m/opt/conda/lib/python3.10/site-packages/neutronclient/v2_0/client.py:272\u001b[0m, in \u001b[0;36mClientBase._handle_fault_response\u001b[0;34m(self, status_code, response_body, resp)\u001b[0m\n\u001b[1;32m    270\u001b[0m error_body \u001b[38;5;241m=\u001b[39m \u001b[38;5;28mself\u001b[39m\u001b[38;5;241m.\u001b[39m_convert_into_with_meta(des_error_body, resp)\n\u001b[1;32m    271\u001b[0m \u001b[38;5;66;03m# Raise the appropriate exception\u001b[39;00m\n\u001b[0;32m--> 272\u001b[0m \u001b[43mexception_handler_v20\u001b[49m\u001b[43m(\u001b[49m\u001b[43mstatus_code\u001b[49m\u001b[43m,\u001b[49m\u001b[43m \u001b[49m\u001b[43merror_body\u001b[49m\u001b[43m)\u001b[49m\n",
      "File \u001b[0;32m/opt/conda/lib/python3.10/site-packages/neutronclient/v2_0/client.py:90\u001b[0m, in \u001b[0;36mexception_handler_v20\u001b[0;34m(status_code, error_content)\u001b[0m\n\u001b[1;32m     87\u001b[0m \u001b[38;5;28;01mif\u001b[39;00m \u001b[38;5;129;01mnot\u001b[39;00m client_exc:\n\u001b[1;32m     88\u001b[0m     client_exc \u001b[38;5;241m=\u001b[39m exceptions\u001b[38;5;241m.\u001b[39mNeutronClientException\n\u001b[0;32m---> 90\u001b[0m \u001b[38;5;28;01mraise\u001b[39;00m client_exc(message\u001b[38;5;241m=\u001b[39merror_message,\n\u001b[1;32m     91\u001b[0m                  status_code\u001b[38;5;241m=\u001b[39mstatus_code,\n\u001b[1;32m     92\u001b[0m                  request_ids\u001b[38;5;241m=\u001b[39mrequest_ids)\n",
      "\u001b[0;31mBadRequest\u001b[0m: Invalid input for operation: facility_port_fabnetv4.subnet is not in a CIDR format.\nNeutron server returns request_ids: ['req-95ee7f5a-c22c-4bef-9548-b9a105efd91b']"
     ]
    }
   ],
   "source": [
    "chi.use_site(chameleon_site_1)\n",
    "os.environ['OS_REGION_NAME'] = chameleon_site_1\n",
    "\n",
    "site_1_subnet_name = chameleon_subnet_name+site_1_suffix\n",
    "\n",
    "site_1_subnet = network_manager.create_subnet(site_1_subnet_name, site_1_network_id,\n",
    "                                         cidr=str(subnet),\n",
    "                                         allocation_pool_start=chameleon_allocation_pool_start,\n",
    "                                         allocation_pool_end=chameleon_allocation_pool_end,\n",
    "                                         gateway_ip=chameleon_gateway_ip)\n",
    "\n",
    "chi.neutron().update_subnet(subnet=site_1_subnet['id'] ,\n",
    "                                    body={\n",
    "                                         \"subnet\": { \n",
    "                                             \"host_routes\": [ \n",
    "                                                    {\n",
    "                                                        \"destination\": f\"{fablib.FABNETV4_SUBNET}\", \n",
    "                                                         \"nexthop\": f\"{fabric_gateway_ip}\"\n",
    "                                                    }\n",
    "                                             ] \n",
    "                                         }\n",
    "                                    })"
   ]
  },
  {
   "cell_type": "code",
   "execution_count": null,
   "id": "c7c086bb-fd5f-4540-b8a8-58b2b967d066",
   "metadata": {},
   "outputs": [],
   "source": [
    "chi.use_site(chameleon_site_2)\n",
    "os.environ['OS_REGION_NAME'] = chameleon_site_2\n",
    "\n",
    "site_2_subnet_name = chameleon_subnet_name+site_2_suffix\n",
    "\n",
    "site_2_subnet = network_manager.create_subnet(site_2_subnet_name, site_2_network_id,\n",
    "                                         cidr=str(subnet),\n",
    "                                         allocation_pool_start=chameleon_allocation_pool_start,\n",
    "                                         allocation_pool_end=chameleon_allocation_pool_end,\n",
    "                                         gateway_ip=chameleon_gateway_ip)\n",
    "\n",
    "chi.neutron().update_subnet(subnet=site_2_subnet['id'] ,\n",
    "                                    body={\n",
    "                                         \"subnet\": { \n",
    "                                             \"host_routes\": [ \n",
    "                                                    {\n",
    "                                                        \"destination\": f\"{fablib.FABNETV4_SUBNET}\", \n",
    "                                                         \"nexthop\": f\"{fabric_gateway_ip}\"\n",
    "                                                    }\n",
    "                                             ] \n",
    "                                         }\n",
    "                                    })"
   ]
  },
  {
   "cell_type": "markdown",
   "id": "36876885-aa7e-4c80-abb5-b5853802bab8",
   "metadata": {},
   "source": [
    "Add Chameleon routers"
   ]
  },
  {
   "cell_type": "code",
   "execution_count": null,
   "id": "bbed6717-77e3-4b51-8952-c30c58cb0d5f",
   "metadata": {},
   "outputs": [],
   "source": [
    "chi.use_site(chameleon_site_1)\n",
    "os.environ['OS_REGION_NAME'] = chameleon_site_1\n",
    "\n",
    "site_1_router_name = chameleon_router_name+site_1_suffix\n",
    "\n",
    "site_1_router = network_manager.create_router(site_1_router_name, gw_network_name='public')\n",
    "site_1_connection_port = network_manager.add_subnet_to_router_by_name(site_1_router_name, site_1_subnet_name)"
   ]
  },
  {
   "cell_type": "code",
   "execution_count": null,
   "id": "159de98b-7ba4-48f5-a72f-98f401d3f42f",
   "metadata": {},
   "outputs": [],
   "source": [
    "chi.use_site(chameleon_site_2)\n",
    "os.environ['OS_REGION_NAME'] = chameleon_site_2\n",
    "\n",
    "site_2_router_name = chameleon_router_name+site_2_suffix\n",
    "\n",
    "site_2_router = network_manager.create_router(site_2_router_name, gw_network_name='public')\n",
    "site_2_connection_port = network_manager.add_subnet_to_router_by_name(site_2_router_name, site_2_subnet_name)"
   ]
  },
  {
   "cell_type": "markdown",
   "id": "1b7eb758-2742-46f7-bdd8-f24c2a30553d",
   "metadata": {},
   "source": [
    "Start Chameleon servers"
   ]
  },
  {
   "cell_type": "code",
   "execution_count": null,
   "id": "c17fa585-c8f4-4f55-9892-3e08d01ef8f2",
   "metadata": {},
   "outputs": [],
   "source": [
    "chi.use_site(chameleon_site_1)\n",
    "os.environ['OS_REGION_NAME'] = chameleon_site_1\n",
    "\n",
    "site_1_servers = []\n",
    "site_1_server_ids = []\n",
    "\n",
    "site_1_server_name = chameleon_server_name+site_1_suffix\n",
    "\n",
    "for i in range(site_1_server_count):\n",
    "    server_name = f\"{site_1_server_name}_{i+1}\"\n",
    "    \n",
    "    site_1_servers.append(server_manager.create_server(server_name,\n",
    "                                               reservation_id=site_1_node_reservation_id,\n",
    "                                               network_name=site_1_network_name,\n",
    "                                               image_name=chameleon_image_name,\n",
    "                                               key_name=chameleon_key_name\n",
    "                                            ))\n",
    "    site_1_server_ids.append(server_manager.get_server_id(server_name))"
   ]
  },
  {
   "cell_type": "code",
   "execution_count": null,
   "id": "51263263-e747-4a2d-8bcd-106d20522c97",
   "metadata": {},
   "outputs": [],
   "source": [
    "chi.use_site(chameleon_site_2)\n",
    "os.environ['OS_REGION_NAME'] = chameleon_site_2\n",
    "\n",
    "site_2_servers = []\n",
    "site_2_server_ids = []\n",
    "\n",
    "site_2_server_name = chameleon_server_name+site_2_suffix\n",
    "\n",
    "for i in range(site_2_server_count):\n",
    "    server_name = f\"{site_2_server_name}_{i+1}\"\n",
    "    \n",
    "    site_2_servers.append(server_manager.create_server(server_name,\n",
    "                                               reservation_id=site_2_node_reservation_id,\n",
    "                                               network_name=site_2_network_name,\n",
    "                                               image_name=chameleon_image_name,\n",
    "                                               key_name=chameleon_key_name\n",
    "                                            ))\n",
    "    site_2_server_ids.append(server_manager.get_server_id(server_name))"
   ]
  },
  {
   "cell_type": "markdown",
   "id": "2342134c-28a2-4b1e-be88-ca04b5a85359",
   "metadata": {},
   "source": [
    "Wait for servers"
   ]
  },
  {
   "cell_type": "code",
   "execution_count": null,
   "id": "928ffce0-388c-4e10-b025-1e9622206a30",
   "metadata": {},
   "outputs": [],
   "source": [
    "chi.use_site(chameleon_site_1)\n",
    "os.environ['OS_REGION_NAME'] = chameleon_site_1\n",
    "\n",
    "for server in site_1_servers:\n",
    "    server_manager.wait_for_active(server.id)\n",
    "    \n",
    "chi.use_site(chameleon_site_2)\n",
    "os.environ['OS_REGION_NAME'] = chameleon_site_2\n",
    "\n",
    "for server in site_2_servers:\n",
    "    server_manager.wait_for_active(server.id)"
   ]
  },
  {
   "cell_type": "markdown",
   "id": "0c0e5f23-bca6-4831-8a55-f241d1e91921",
   "metadata": {},
   "source": [
    "Get server fixed IPs"
   ]
  },
  {
   "cell_type": "code",
   "execution_count": null,
   "id": "5e251ad5-118c-4ae6-b258-e3c724015d9d",
   "metadata": {},
   "outputs": [],
   "source": [
    "chi.use_site(chameleon_site_1)\n",
    "os.environ['OS_REGION_NAME'] = chameleon_site_1\n",
    "\n",
    "site_1_fixed_ips={}\n",
    "for i in range(site_1_server_count):\n",
    "    server_name = f\"{site_1_server_name}_{i+1}\"\n",
    "    server_id = server_manager.get_server_id(server_name)\n",
    "    fixed_ip = server_manager.get_server(server_id).interface_list()[0].to_dict()[\"fixed_ips\"][0][\"ip_address\"]\n",
    "    site_1_fixed_ips[server_name] = fixed_ip"
   ]
  },
  {
   "cell_type": "code",
   "execution_count": null,
   "id": "270bbfc4-13f2-4c37-a7fa-d8b5b109ce33",
   "metadata": {},
   "outputs": [],
   "source": [
    "chi.use_site(chameleon_site_2)\n",
    "os.environ['OS_REGION_NAME'] = chameleon_site_2\n",
    "\n",
    "site_2_fixed_ips={}\n",
    "for i in range(site_2_server_count):\n",
    "    server_name = f\"{site_2_server_name}_{i+1}\"\n",
    "    server_id = serverr_manager.get_server_id(server_name)\n",
    "    fixed_ip = server_manager.get_server(server_id).interface_list()[0].to_dict()[\"fixed_ips\"][0][\"ip_address\"]\n",
    "    site_2_fixed_ips[server_name] = fixed_ip"
   ]
  },
  {
   "cell_type": "markdown",
   "id": "a11698ac-5474-40a0-98c3-6ea0c8340d44",
   "metadata": {},
   "source": [
    "Run iPerf"
   ]
  },
  {
   "cell_type": "code",
   "execution_count": null,
   "id": "f210ddca-9528-43a8-84d4-c0f4c54d6786",
   "metadata": {},
   "outputs": [],
   "source": [
    "import paramiko\n",
    "import random\n",
    "\n",
    "node_1_addr=site_1_fixed_ips[f'{site_1_server_name}_{random.randint(1, site_1_server_count)}']\n",
    "node_2_addr=site_2_fixed_ips[f'{site_2_server_name}_{random.randint(1, site_2_server_count)}']\n",
    "\n",
    "key = paramiko.RSAKey.from_private_key_file(chameleon_key_path)\n",
    "client = paramiko.SSHClient()\n",
    "client.load_system_host_keys()\n",
    "client.set_missing_host_key_policy(paramiko.MissingHostKeyPolicy())\n",
    "\n",
    "client.set_missing_host_key_policy(paramiko.AutoAddPolicy())\n",
    "client.connect(node_1_addr,username='cc',pkey = key)\n",
    "\n",
    "stdin, stdout, stderr = client.exec_command('sudo apt -y install iperf3 2>&1 /dev/null && nohup iperf3 -s -1')\n",
    "print (stdout.read())\n",
    "print (stderr.read())\n",
    "\n",
    "client.close()\n",
    "\n",
    "key = paramiko.RSAKey.from_private_key_file(chameleon_key_path)\n",
    "client = paramiko.SSHClient()\n",
    "client.load_system_host_keys()\n",
    "client.set_missing_host_key_policy(paramiko.MissingHostKeyPolicy())\n",
    "\n",
    "client.set_missing_host_key_policy(paramiko.AutoAddPolicy())\n",
    "client.connect(node_2_addr,username='cc',pkey = key)\n",
    "\n",
    "stdin, stdout, stderr = client.exec_command(f'sudo apt -y install iperf3 2>&1 /dev/null && iperf3 -c {node_1_addr} -P 4 -t 30 -i 10 -O 10')\n",
    "print (stdout.read())\n",
    "print (stderr.read())\n",
    "\n",
    "client.close()"
   ]
  },
  {
   "cell_type": "markdown",
   "id": "dc1d8f68-f32e-4b81-bcc0-31fe87a45b4a",
   "metadata": {},
   "source": [
    "free FABRIC resources"
   ]
  },
  {
   "cell_type": "markdown",
   "id": "a744ac44-9c09-4fbd-bb51-35ce14e5a804",
   "metadata": {},
   "source": [
    "free Chameleon resources"
   ]
  },
  {
   "cell_type": "code",
   "execution_count": null,
   "id": "c5698479-4913-4e4b-8fa7-973ddd99d753",
   "metadata": {},
   "outputs": [],
   "source": [
    "chi.use_site(chameleon_site_1)\n",
    "os.environ['OS_REGION_NAME'] = chameleon_site_1\n",
    "\n",
    "for server_id in site_1_server_ids:\n",
    "    server_manager.delete_server(server_id)"
   ]
  },
  {
   "cell_type": "code",
   "execution_count": 22,
   "id": "e11976d4-8dac-49d8-8d82-154ca43b24c1",
   "metadata": {},
   "outputs": [
    {
     "name": "stdout",
     "output_type": "stream",
     "text": [
      "Now using CHI@TACC:\n",
      "URL: https://chi.tacc.chameleoncloud.org\n",
      "Location: Austin, Texas, USA\n",
      "Support contact: help@chameleoncloud.org\n"
     ]
    },
    {
     "ename": "Unauthorized",
     "evalue": "Unauthorized (HTTP 401)",
     "output_type": "error",
     "traceback": [
      "\u001b[0;31m---------------------------------------------------------------------------\u001b[0m",
      "\u001b[0;31mUnauthorized\u001b[0m                              Traceback (most recent call last)",
      "Cell \u001b[0;32mIn[22], line 4\u001b[0m\n\u001b[1;32m      1\u001b[0m chi\u001b[38;5;241m.\u001b[39muse_site(chameleon_site_1)\n\u001b[1;32m      2\u001b[0m os\u001b[38;5;241m.\u001b[39menviron[\u001b[38;5;124m'\u001b[39m\u001b[38;5;124mOS_REGION_NAME\u001b[39m\u001b[38;5;124m'\u001b[39m] \u001b[38;5;241m=\u001b[39m chameleon_site_1\n\u001b[0;32m----> 4\u001b[0m \u001b[43mnetwork_manager\u001b[49m\u001b[38;5;241;43m.\u001b[39;49m\u001b[43mnuke_network\u001b[49m\u001b[43m(\u001b[49m\u001b[43msite_1_network_id\u001b[49m\u001b[43m)\u001b[49m\n",
      "File \u001b[0;32m/opt/conda/lib/python3.10/site-packages/chi/network.py:761\u001b[0m, in \u001b[0;36mnuke_network\u001b[0;34m(network_ref)\u001b[0m\n\u001b[1;32m    739\u001b[0m \u001b[38;5;28;01mdef\u001b[39;00m \u001b[38;5;21mnuke_network\u001b[39m(network_ref: \u001b[38;5;28mstr\u001b[39m):\n\u001b[1;32m    740\u001b[0m     \u001b[38;5;124;03m\"\"\"Completely tear down the network.\u001b[39;00m\n\u001b[1;32m    741\u001b[0m \n\u001b[1;32m    742\u001b[0m \u001b[38;5;124;03m    Cleanly tearing down an OpenStack network representation involves a few\u001b[39;00m\n\u001b[0;32m   (...)\u001b[0m\n\u001b[1;32m    759\u001b[0m \u001b[38;5;124;03m        network_ref (str): The network name or ID.\u001b[39;00m\n\u001b[1;32m    760\u001b[0m \u001b[38;5;124;03m    \"\"\"\u001b[39;00m\n\u001b[0;32m--> 761\u001b[0m     network \u001b[38;5;241m=\u001b[39m \u001b[43mget_network\u001b[49m\u001b[43m(\u001b[49m\u001b[43mnetwork_ref\u001b[49m\u001b[43m)\u001b[49m\n\u001b[1;32m    762\u001b[0m     network_id \u001b[38;5;241m=\u001b[39m network[\u001b[38;5;124m\"\u001b[39m\u001b[38;5;124mid\u001b[39m\u001b[38;5;124m\"\u001b[39m]\n\u001b[1;32m    764\u001b[0m     \u001b[38;5;66;03m#Detach the router from all of its networks\u001b[39;00m\n",
      "File \u001b[0;32m/opt/conda/lib/python3.10/site-packages/chi/network.py:104\u001b[0m, in \u001b[0;36mget_network\u001b[0;34m(ref)\u001b[0m\n\u001b[1;32m     91\u001b[0m \u001b[38;5;28;01mdef\u001b[39;00m \u001b[38;5;21mget_network\u001b[39m(ref) \u001b[38;5;241m-\u001b[39m\u001b[38;5;241m>\u001b[39m \u001b[38;5;28mdict\u001b[39m:\n\u001b[1;32m     92\u001b[0m     \u001b[38;5;124;03m\"\"\"Get a network by its name or ID.\u001b[39;00m\n\u001b[1;32m     93\u001b[0m \n\u001b[1;32m     94\u001b[0m \u001b[38;5;124;03m    Args:\u001b[39;00m\n\u001b[0;32m   (...)\u001b[0m\n\u001b[1;32m    102\u001b[0m \u001b[38;5;124;03m            were returned for the search term.\u001b[39;00m\n\u001b[1;32m    103\u001b[0m \u001b[38;5;124;03m    \"\"\"\u001b[39;00m\n\u001b[0;32m--> 104\u001b[0m     \u001b[38;5;28;01mreturn\u001b[39;00m \u001b[43m_resolve_resource\u001b[49m\u001b[43m(\u001b[49m\u001b[38;5;124;43m'\u001b[39;49m\u001b[38;5;124;43mnetwork\u001b[39;49m\u001b[38;5;124;43m'\u001b[39;49m\u001b[43m,\u001b[49m\u001b[43m \u001b[49m\u001b[43mref\u001b[49m\u001b[43m)\u001b[49m\n",
      "File \u001b[0;32m/opt/conda/lib/python3.10/site-packages/chi/network.py:79\u001b[0m, in \u001b[0;36m_resolve_resource\u001b[0;34m(resource, name_or_id)\u001b[0m\n\u001b[1;32m     77\u001b[0m     \u001b[38;5;28;01mraise\u001b[39;00m \u001b[38;5;167;01mValueError\u001b[39;00m(\u001b[38;5;124mf\u001b[39m\u001b[38;5;124m'\u001b[39m\u001b[38;5;124mInvalid resource type \u001b[39m\u001b[38;5;124m\"\u001b[39m\u001b[38;5;132;01m{\u001b[39;00mresource\u001b[38;5;132;01m}\u001b[39;00m\u001b[38;5;124m\"\u001b[39m\u001b[38;5;124m'\u001b[39m)\n\u001b[1;32m     78\u001b[0m \u001b[38;5;28;01mtry\u001b[39;00m:\n\u001b[0;32m---> 79\u001b[0m     res \u001b[38;5;241m=\u001b[39m \u001b[43mget_fn\u001b[49m\u001b[43m(\u001b[49m\u001b[43mname_or_id\u001b[49m\u001b[43m)\u001b[49m\n\u001b[1;32m     80\u001b[0m \u001b[38;5;28;01mexcept\u001b[39;00m NotFound:\n\u001b[1;32m     81\u001b[0m     resource_id \u001b[38;5;241m=\u001b[39m _resolve_id(\u001b[38;5;124mf\u001b[39m\u001b[38;5;124m'\u001b[39m\u001b[38;5;132;01m{\u001b[39;00mresource\u001b[38;5;132;01m}\u001b[39;00m\u001b[38;5;124ms\u001b[39m\u001b[38;5;124m'\u001b[39m, name_or_id)\n",
      "File \u001b[0;32m/opt/conda/lib/python3.10/site-packages/neutronclient/v2_0/client.py:853\u001b[0m, in \u001b[0;36mClient.show_network\u001b[0;34m(self, network, **_params)\u001b[0m\n\u001b[1;32m    851\u001b[0m \u001b[38;5;28;01mdef\u001b[39;00m \u001b[38;5;21mshow_network\u001b[39m(\u001b[38;5;28mself\u001b[39m, network, \u001b[38;5;241m*\u001b[39m\u001b[38;5;241m*\u001b[39m_params):\n\u001b[1;32m    852\u001b[0m     \u001b[38;5;124;03m\"\"\"Fetches information of a certain network.\"\"\"\u001b[39;00m\n\u001b[0;32m--> 853\u001b[0m     \u001b[38;5;28;01mreturn\u001b[39;00m \u001b[38;5;28;43mself\u001b[39;49m\u001b[38;5;241;43m.\u001b[39;49m\u001b[43mget\u001b[49m\u001b[43m(\u001b[49m\u001b[38;5;28;43mself\u001b[39;49m\u001b[38;5;241;43m.\u001b[39;49m\u001b[43mnetwork_path\u001b[49m\u001b[43m \u001b[49m\u001b[38;5;241;43m%\u001b[39;49m\u001b[43m \u001b[49m\u001b[43m(\u001b[49m\u001b[43mnetwork\u001b[49m\u001b[43m)\u001b[49m\u001b[43m,\u001b[49m\u001b[43m \u001b[49m\u001b[43mparams\u001b[49m\u001b[38;5;241;43m=\u001b[39;49m\u001b[43m_params\u001b[49m\u001b[43m)\u001b[49m\n",
      "File \u001b[0;32m/opt/conda/lib/python3.10/site-packages/neutronclient/v2_0/client.py:356\u001b[0m, in \u001b[0;36mClientBase.get\u001b[0;34m(self, action, body, headers, params)\u001b[0m\n\u001b[1;32m    355\u001b[0m \u001b[38;5;28;01mdef\u001b[39;00m \u001b[38;5;21mget\u001b[39m(\u001b[38;5;28mself\u001b[39m, action, body\u001b[38;5;241m=\u001b[39m\u001b[38;5;28;01mNone\u001b[39;00m, headers\u001b[38;5;241m=\u001b[39m\u001b[38;5;28;01mNone\u001b[39;00m, params\u001b[38;5;241m=\u001b[39m\u001b[38;5;28;01mNone\u001b[39;00m):\n\u001b[0;32m--> 356\u001b[0m     \u001b[38;5;28;01mreturn\u001b[39;00m \u001b[38;5;28;43mself\u001b[39;49m\u001b[38;5;241;43m.\u001b[39;49m\u001b[43mretry_request\u001b[49m\u001b[43m(\u001b[49m\u001b[38;5;124;43m\"\u001b[39;49m\u001b[38;5;124;43mGET\u001b[39;49m\u001b[38;5;124;43m\"\u001b[39;49m\u001b[43m,\u001b[49m\u001b[43m \u001b[49m\u001b[43maction\u001b[49m\u001b[43m,\u001b[49m\u001b[43m \u001b[49m\u001b[43mbody\u001b[49m\u001b[38;5;241;43m=\u001b[39;49m\u001b[43mbody\u001b[49m\u001b[43m,\u001b[49m\n\u001b[1;32m    357\u001b[0m \u001b[43m                              \u001b[49m\u001b[43mheaders\u001b[49m\u001b[38;5;241;43m=\u001b[39;49m\u001b[43mheaders\u001b[49m\u001b[43m,\u001b[49m\u001b[43m \u001b[49m\u001b[43mparams\u001b[49m\u001b[38;5;241;43m=\u001b[39;49m\u001b[43mparams\u001b[49m\u001b[43m)\u001b[49m\n",
      "File \u001b[0;32m/opt/conda/lib/python3.10/site-packages/neutronclient/v2_0/client.py:333\u001b[0m, in \u001b[0;36mClientBase.retry_request\u001b[0;34m(self, method, action, body, headers, params)\u001b[0m\n\u001b[1;32m    331\u001b[0m \u001b[38;5;28;01mfor\u001b[39;00m i \u001b[38;5;129;01min\u001b[39;00m \u001b[38;5;28mrange\u001b[39m(max_attempts):\n\u001b[1;32m    332\u001b[0m     \u001b[38;5;28;01mtry\u001b[39;00m:\n\u001b[0;32m--> 333\u001b[0m         \u001b[38;5;28;01mreturn\u001b[39;00m \u001b[38;5;28;43mself\u001b[39;49m\u001b[38;5;241;43m.\u001b[39;49m\u001b[43mdo_request\u001b[49m\u001b[43m(\u001b[49m\u001b[43mmethod\u001b[49m\u001b[43m,\u001b[49m\u001b[43m \u001b[49m\u001b[43maction\u001b[49m\u001b[43m,\u001b[49m\u001b[43m \u001b[49m\u001b[43mbody\u001b[49m\u001b[38;5;241;43m=\u001b[39;49m\u001b[43mbody\u001b[49m\u001b[43m,\u001b[49m\n\u001b[1;32m    334\u001b[0m \u001b[43m                               \u001b[49m\u001b[43mheaders\u001b[49m\u001b[38;5;241;43m=\u001b[39;49m\u001b[43mheaders\u001b[49m\u001b[43m,\u001b[49m\u001b[43m \u001b[49m\u001b[43mparams\u001b[49m\u001b[38;5;241;43m=\u001b[39;49m\u001b[43mparams\u001b[49m\u001b[43m)\u001b[49m\n\u001b[1;32m    335\u001b[0m     \u001b[38;5;28;01mexcept\u001b[39;00m (exceptions\u001b[38;5;241m.\u001b[39mConnectionFailed, ksa_exc\u001b[38;5;241m.\u001b[39mConnectionError):\n\u001b[1;32m    336\u001b[0m         \u001b[38;5;66;03m# Exception has already been logged by do_request()\u001b[39;00m\n\u001b[1;32m    337\u001b[0m         \u001b[38;5;28;01mif\u001b[39;00m i \u001b[38;5;241m<\u001b[39m \u001b[38;5;28mself\u001b[39m\u001b[38;5;241m.\u001b[39mretries:\n",
      "File \u001b[0;32m/opt/conda/lib/python3.10/site-packages/neutronclient/v2_0/client.py:284\u001b[0m, in \u001b[0;36mClientBase.do_request\u001b[0;34m(self, method, action, body, headers, params)\u001b[0m\n\u001b[1;32m    281\u001b[0m \u001b[38;5;28;01mif\u001b[39;00m body:\n\u001b[1;32m    282\u001b[0m     body \u001b[38;5;241m=\u001b[39m \u001b[38;5;28mself\u001b[39m\u001b[38;5;241m.\u001b[39mserialize(body)\n\u001b[0;32m--> 284\u001b[0m resp, replybody \u001b[38;5;241m=\u001b[39m \u001b[38;5;28;43mself\u001b[39;49m\u001b[38;5;241;43m.\u001b[39;49m\u001b[43mhttpclient\u001b[49m\u001b[38;5;241;43m.\u001b[39;49m\u001b[43mdo_request\u001b[49m\u001b[43m(\u001b[49m\u001b[43maction\u001b[49m\u001b[43m,\u001b[49m\u001b[43m \u001b[49m\u001b[43mmethod\u001b[49m\u001b[43m,\u001b[49m\u001b[43m \u001b[49m\u001b[43mbody\u001b[49m\u001b[38;5;241;43m=\u001b[39;49m\u001b[43mbody\u001b[49m\u001b[43m,\u001b[49m\n\u001b[1;32m    285\u001b[0m \u001b[43m                                             \u001b[49m\u001b[43mheaders\u001b[49m\u001b[38;5;241;43m=\u001b[39;49m\u001b[43mheaders\u001b[49m\u001b[43m)\u001b[49m\n\u001b[1;32m    287\u001b[0m status_code \u001b[38;5;241m=\u001b[39m resp\u001b[38;5;241m.\u001b[39mstatus_code\n\u001b[1;32m    288\u001b[0m \u001b[38;5;28;01mif\u001b[39;00m status_code \u001b[38;5;129;01min\u001b[39;00m (requests\u001b[38;5;241m.\u001b[39mcodes\u001b[38;5;241m.\u001b[39mok,\n\u001b[1;32m    289\u001b[0m                    requests\u001b[38;5;241m.\u001b[39mcodes\u001b[38;5;241m.\u001b[39mcreated,\n\u001b[1;32m    290\u001b[0m                    requests\u001b[38;5;241m.\u001b[39mcodes\u001b[38;5;241m.\u001b[39maccepted,\n\u001b[1;32m    291\u001b[0m                    requests\u001b[38;5;241m.\u001b[39mcodes\u001b[38;5;241m.\u001b[39mno_content):\n",
      "File \u001b[0;32m/opt/conda/lib/python3.10/site-packages/neutronclient/client.py:341\u001b[0m, in \u001b[0;36mSessionClient.do_request\u001b[0;34m(self, url, method, **kwargs)\u001b[0m\n\u001b[1;32m    339\u001b[0m \u001b[38;5;28;01mdef\u001b[39;00m \u001b[38;5;21mdo_request\u001b[39m(\u001b[38;5;28mself\u001b[39m, url, method, \u001b[38;5;241m*\u001b[39m\u001b[38;5;241m*\u001b[39mkwargs):\n\u001b[1;32m    340\u001b[0m     kwargs\u001b[38;5;241m.\u001b[39msetdefault(\u001b[38;5;124m'\u001b[39m\u001b[38;5;124mauthenticated\u001b[39m\u001b[38;5;124m'\u001b[39m, \u001b[38;5;28;01mTrue\u001b[39;00m)\n\u001b[0;32m--> 341\u001b[0m     \u001b[38;5;28;43mself\u001b[39;49m\u001b[38;5;241;43m.\u001b[39;49m\u001b[43m_check_uri_length\u001b[49m\u001b[43m(\u001b[49m\u001b[43murl\u001b[49m\u001b[43m)\u001b[49m\n\u001b[1;32m    342\u001b[0m     \u001b[38;5;28;01mreturn\u001b[39;00m \u001b[38;5;28mself\u001b[39m\u001b[38;5;241m.\u001b[39mrequest(url, method, \u001b[38;5;241m*\u001b[39m\u001b[38;5;241m*\u001b[39mkwargs)\n",
      "File \u001b[0;32m/opt/conda/lib/python3.10/site-packages/neutronclient/client.py:334\u001b[0m, in \u001b[0;36mSessionClient._check_uri_length\u001b[0;34m(self, url)\u001b[0m\n\u001b[1;32m    333\u001b[0m \u001b[38;5;28;01mdef\u001b[39;00m \u001b[38;5;21m_check_uri_length\u001b[39m(\u001b[38;5;28mself\u001b[39m, url):\n\u001b[0;32m--> 334\u001b[0m     uri_len \u001b[38;5;241m=\u001b[39m \u001b[38;5;28mlen\u001b[39m(\u001b[38;5;28;43mself\u001b[39;49m\u001b[38;5;241;43m.\u001b[39;49m\u001b[43mendpoint_url\u001b[49m) \u001b[38;5;241m+\u001b[39m \u001b[38;5;28mlen\u001b[39m(url)\n\u001b[1;32m    335\u001b[0m     \u001b[38;5;28;01mif\u001b[39;00m uri_len \u001b[38;5;241m>\u001b[39m MAX_URI_LEN:\n\u001b[1;32m    336\u001b[0m         \u001b[38;5;28;01mraise\u001b[39;00m exceptions\u001b[38;5;241m.\u001b[39mRequestURITooLong(\n\u001b[1;32m    337\u001b[0m             excess\u001b[38;5;241m=\u001b[39muri_len \u001b[38;5;241m-\u001b[39m MAX_URI_LEN)\n",
      "File \u001b[0;32m/opt/conda/lib/python3.10/site-packages/neutronclient/client.py:348\u001b[0m, in \u001b[0;36mSessionClient.endpoint_url\u001b[0;34m(self)\u001b[0m\n\u001b[1;32m    344\u001b[0m \u001b[38;5;129m@property\u001b[39m\n\u001b[1;32m    345\u001b[0m \u001b[38;5;28;01mdef\u001b[39;00m \u001b[38;5;21mendpoint_url\u001b[39m(\u001b[38;5;28mself\u001b[39m):\n\u001b[1;32m    346\u001b[0m     \u001b[38;5;66;03m# NOTE(jamielennox): This is used purely by the CLI and should be\u001b[39;00m\n\u001b[1;32m    347\u001b[0m     \u001b[38;5;66;03m# removed when the CLI gets smarter.\u001b[39;00m\n\u001b[0;32m--> 348\u001b[0m     \u001b[38;5;28;01mreturn\u001b[39;00m \u001b[38;5;28;43mself\u001b[39;49m\u001b[38;5;241;43m.\u001b[39;49m\u001b[43mget_endpoint\u001b[49m\u001b[43m(\u001b[49m\u001b[43m)\u001b[49m\n",
      "File \u001b[0;32m/opt/conda/lib/python3.10/site-packages/keystoneauth1/adapter.py:291\u001b[0m, in \u001b[0;36mAdapter.get_endpoint\u001b[0;34m(self, auth, **kwargs)\u001b[0m\n\u001b[1;32m    288\u001b[0m     \u001b[38;5;28;01mreturn\u001b[39;00m \u001b[38;5;28mself\u001b[39m\u001b[38;5;241m.\u001b[39mendpoint_override\n\u001b[1;32m    290\u001b[0m \u001b[38;5;28mself\u001b[39m\u001b[38;5;241m.\u001b[39m_set_endpoint_filter_kwargs(kwargs)\n\u001b[0;32m--> 291\u001b[0m \u001b[38;5;28;01mreturn\u001b[39;00m \u001b[38;5;28;43mself\u001b[39;49m\u001b[38;5;241;43m.\u001b[39;49m\u001b[43msession\u001b[49m\u001b[38;5;241;43m.\u001b[39;49m\u001b[43mget_endpoint\u001b[49m\u001b[43m(\u001b[49m\u001b[43mauth\u001b[49m\u001b[43m \u001b[49m\u001b[38;5;129;43;01mor\u001b[39;49;00m\u001b[43m \u001b[49m\u001b[38;5;28;43mself\u001b[39;49m\u001b[38;5;241;43m.\u001b[39;49m\u001b[43mauth\u001b[49m\u001b[43m,\u001b[49m\u001b[43m \u001b[49m\u001b[38;5;241;43m*\u001b[39;49m\u001b[38;5;241;43m*\u001b[39;49m\u001b[43mkwargs\u001b[49m\u001b[43m)\u001b[49m\n",
      "File \u001b[0;32m/opt/conda/lib/python3.10/site-packages/keystoneauth1/adapter.py:291\u001b[0m, in \u001b[0;36mAdapter.get_endpoint\u001b[0;34m(self, auth, **kwargs)\u001b[0m\n\u001b[1;32m    288\u001b[0m     \u001b[38;5;28;01mreturn\u001b[39;00m \u001b[38;5;28mself\u001b[39m\u001b[38;5;241m.\u001b[39mendpoint_override\n\u001b[1;32m    290\u001b[0m \u001b[38;5;28mself\u001b[39m\u001b[38;5;241m.\u001b[39m_set_endpoint_filter_kwargs(kwargs)\n\u001b[0;32m--> 291\u001b[0m \u001b[38;5;28;01mreturn\u001b[39;00m \u001b[38;5;28;43mself\u001b[39;49m\u001b[38;5;241;43m.\u001b[39;49m\u001b[43msession\u001b[49m\u001b[38;5;241;43m.\u001b[39;49m\u001b[43mget_endpoint\u001b[49m\u001b[43m(\u001b[49m\u001b[43mauth\u001b[49m\u001b[43m \u001b[49m\u001b[38;5;129;43;01mor\u001b[39;49;00m\u001b[43m \u001b[49m\u001b[38;5;28;43mself\u001b[39;49m\u001b[38;5;241;43m.\u001b[39;49m\u001b[43mauth\u001b[49m\u001b[43m,\u001b[49m\u001b[43m \u001b[49m\u001b[38;5;241;43m*\u001b[39;49m\u001b[38;5;241;43m*\u001b[39;49m\u001b[43mkwargs\u001b[49m\u001b[43m)\u001b[49m\n",
      "File \u001b[0;32m/opt/conda/lib/python3.10/site-packages/keystoneauth1/session.py:1243\u001b[0m, in \u001b[0;36mSession.get_endpoint\u001b[0;34m(self, auth, **kwargs)\u001b[0m\n\u001b[1;32m   1239\u001b[0m     \u001b[38;5;28;01mreturn\u001b[39;00m kwargs[\u001b[38;5;124m'\u001b[39m\u001b[38;5;124mendpoint_override\u001b[39m\u001b[38;5;124m'\u001b[39m]\n\u001b[1;32m   1241\u001b[0m auth \u001b[38;5;241m=\u001b[39m \u001b[38;5;28mself\u001b[39m\u001b[38;5;241m.\u001b[39m_auth_required(auth, \u001b[38;5;124m'\u001b[39m\u001b[38;5;124mdetermine endpoint URL\u001b[39m\u001b[38;5;124m'\u001b[39m)\n\u001b[0;32m-> 1243\u001b[0m \u001b[38;5;28;01mreturn\u001b[39;00m \u001b[43mauth\u001b[49m\u001b[38;5;241;43m.\u001b[39;49m\u001b[43mget_endpoint\u001b[49m\u001b[43m(\u001b[49m\u001b[38;5;28;43mself\u001b[39;49m\u001b[43m,\u001b[49m\u001b[43m \u001b[49m\u001b[38;5;241;43m*\u001b[39;49m\u001b[38;5;241;43m*\u001b[39;49m\u001b[43mkwargs\u001b[49m\u001b[43m)\u001b[49m\n",
      "File \u001b[0;32m/opt/conda/lib/python3.10/site-packages/keystoneauth1/identity/base.py:375\u001b[0m, in \u001b[0;36mBaseIdentityPlugin.get_endpoint\u001b[0;34m(self, session, service_type, interface, region_name, service_name, version, allow, allow_version_hack, skip_discovery, min_version, max_version, **kwargs)\u001b[0m\n\u001b[1;32m    368\u001b[0m min_version, max_version \u001b[38;5;241m=\u001b[39m discover\u001b[38;5;241m.\u001b[39m_normalize_version_args(\n\u001b[1;32m    369\u001b[0m     version, min_version, max_version, service_type\u001b[38;5;241m=\u001b[39mservice_type)\n\u001b[1;32m    370\u001b[0m \u001b[38;5;66;03m# Set discover_versions to False since we're only going to return\u001b[39;00m\n\u001b[1;32m    371\u001b[0m \u001b[38;5;66;03m# a URL. Fetching the microversion data would be needlessly\u001b[39;00m\n\u001b[1;32m    372\u001b[0m \u001b[38;5;66;03m# expensive in the common case. However, discover_versions=False\u001b[39;00m\n\u001b[1;32m    373\u001b[0m \u001b[38;5;66;03m# will still run discovery if the version requested is not the\u001b[39;00m\n\u001b[1;32m    374\u001b[0m \u001b[38;5;66;03m# version in the catalog.\u001b[39;00m\n\u001b[0;32m--> 375\u001b[0m endpoint_data \u001b[38;5;241m=\u001b[39m \u001b[38;5;28;43mself\u001b[39;49m\u001b[38;5;241;43m.\u001b[39;49m\u001b[43mget_endpoint_data\u001b[49m\u001b[43m(\u001b[49m\n\u001b[1;32m    376\u001b[0m \u001b[43m    \u001b[49m\u001b[43msession\u001b[49m\u001b[43m,\u001b[49m\u001b[43m \u001b[49m\u001b[43mservice_type\u001b[49m\u001b[38;5;241;43m=\u001b[39;49m\u001b[43mservice_type\u001b[49m\u001b[43m,\u001b[49m\u001b[43m \u001b[49m\u001b[43minterface\u001b[49m\u001b[38;5;241;43m=\u001b[39;49m\u001b[43minterface\u001b[49m\u001b[43m,\u001b[49m\n\u001b[1;32m    377\u001b[0m \u001b[43m    \u001b[49m\u001b[43mregion_name\u001b[49m\u001b[38;5;241;43m=\u001b[39;49m\u001b[43mregion_name\u001b[49m\u001b[43m,\u001b[49m\u001b[43m \u001b[49m\u001b[43mservice_name\u001b[49m\u001b[38;5;241;43m=\u001b[39;49m\u001b[43mservice_name\u001b[49m\u001b[43m,\u001b[49m\n\u001b[1;32m    378\u001b[0m \u001b[43m    \u001b[49m\u001b[43mallow\u001b[49m\u001b[38;5;241;43m=\u001b[39;49m\u001b[43mallow\u001b[49m\u001b[43m,\u001b[49m\u001b[43m \u001b[49m\u001b[43mmin_version\u001b[49m\u001b[38;5;241;43m=\u001b[39;49m\u001b[43mmin_version\u001b[49m\u001b[43m,\u001b[49m\u001b[43m \u001b[49m\u001b[43mmax_version\u001b[49m\u001b[38;5;241;43m=\u001b[39;49m\u001b[43mmax_version\u001b[49m\u001b[43m,\u001b[49m\n\u001b[1;32m    379\u001b[0m \u001b[43m    \u001b[49m\u001b[43mdiscover_versions\u001b[49m\u001b[38;5;241;43m=\u001b[39;49m\u001b[38;5;28;43;01mFalse\u001b[39;49;00m\u001b[43m,\u001b[49m\u001b[43m \u001b[49m\u001b[43mskip_discovery\u001b[49m\u001b[38;5;241;43m=\u001b[39;49m\u001b[43mskip_discovery\u001b[49m\u001b[43m,\u001b[49m\n\u001b[1;32m    380\u001b[0m \u001b[43m    \u001b[49m\u001b[43mallow_version_hack\u001b[49m\u001b[38;5;241;43m=\u001b[39;49m\u001b[43mallow_version_hack\u001b[49m\u001b[43m,\u001b[49m\u001b[43m \u001b[49m\u001b[38;5;241;43m*\u001b[39;49m\u001b[38;5;241;43m*\u001b[39;49m\u001b[43mkwargs\u001b[49m\u001b[43m)\u001b[49m\n\u001b[1;32m    381\u001b[0m \u001b[38;5;28;01mreturn\u001b[39;00m endpoint_data\u001b[38;5;241m.\u001b[39murl \u001b[38;5;28;01mif\u001b[39;00m endpoint_data \u001b[38;5;28;01melse\u001b[39;00m \u001b[38;5;28;01mNone\u001b[39;00m\n",
      "File \u001b[0;32m/opt/conda/lib/python3.10/site-packages/keystoneauth1/identity/base.py:271\u001b[0m, in \u001b[0;36mBaseIdentityPlugin.get_endpoint_data\u001b[0;34m(self, session, service_type, interface, region_name, service_name, allow, allow_version_hack, discover_versions, skip_discovery, min_version, max_version, endpoint_override, **kwargs)\u001b[0m\n\u001b[1;32m    268\u001b[0m \u001b[38;5;28;01mif\u001b[39;00m \u001b[38;5;129;01mnot\u001b[39;00m interface:\n\u001b[1;32m    269\u001b[0m     interface \u001b[38;5;241m=\u001b[39m \u001b[38;5;124m'\u001b[39m\u001b[38;5;124mpublic\u001b[39m\u001b[38;5;124m'\u001b[39m\n\u001b[0;32m--> 271\u001b[0m service_catalog \u001b[38;5;241m=\u001b[39m \u001b[38;5;28;43mself\u001b[39;49m\u001b[38;5;241;43m.\u001b[39;49m\u001b[43mget_access\u001b[49m\u001b[43m(\u001b[49m\u001b[43msession\u001b[49m\u001b[43m)\u001b[49m\u001b[38;5;241m.\u001b[39mservice_catalog\n\u001b[1;32m    272\u001b[0m project_id \u001b[38;5;241m=\u001b[39m \u001b[38;5;28mself\u001b[39m\u001b[38;5;241m.\u001b[39mget_project_id(session)\n\u001b[1;32m    273\u001b[0m \u001b[38;5;66;03m# NOTE(mordred): service_catalog.url_data_for raises if it can't\u001b[39;00m\n\u001b[1;32m    274\u001b[0m \u001b[38;5;66;03m# find a match, so this will always be a valid object.\u001b[39;00m\n",
      "File \u001b[0;32m/opt/conda/lib/python3.10/site-packages/keystoneauth1/identity/base.py:134\u001b[0m, in \u001b[0;36mBaseIdentityPlugin.get_access\u001b[0;34m(self, session, **kwargs)\u001b[0m\n\u001b[1;32m    132\u001b[0m \u001b[38;5;28;01mwith\u001b[39;00m \u001b[38;5;28mself\u001b[39m\u001b[38;5;241m.\u001b[39m_lock:\n\u001b[1;32m    133\u001b[0m     \u001b[38;5;28;01mif\u001b[39;00m \u001b[38;5;28mself\u001b[39m\u001b[38;5;241m.\u001b[39m_needs_reauthenticate():\n\u001b[0;32m--> 134\u001b[0m         \u001b[38;5;28mself\u001b[39m\u001b[38;5;241m.\u001b[39mauth_ref \u001b[38;5;241m=\u001b[39m \u001b[38;5;28;43mself\u001b[39;49m\u001b[38;5;241;43m.\u001b[39;49m\u001b[43mget_auth_ref\u001b[49m\u001b[43m(\u001b[49m\u001b[43msession\u001b[49m\u001b[43m)\u001b[49m\n\u001b[1;32m    136\u001b[0m \u001b[38;5;28;01mreturn\u001b[39;00m \u001b[38;5;28mself\u001b[39m\u001b[38;5;241m.\u001b[39mauth_ref\n",
      "File \u001b[0;32m/opt/conda/lib/python3.10/site-packages/keystoneauth1/identity/v3/federation.py:65\u001b[0m, in \u001b[0;36m_Rescoped.get_auth_ref\u001b[0;34m(self, session, **kwargs)\u001b[0m\n\u001b[1;32m     49\u001b[0m \u001b[38;5;28;01mdef\u001b[39;00m \u001b[38;5;21mget_auth_ref\u001b[39m(\u001b[38;5;28mself\u001b[39m, session, \u001b[38;5;241m*\u001b[39m\u001b[38;5;241m*\u001b[39mkwargs):\n\u001b[1;32m     50\u001b[0m     \u001b[38;5;124;03m\"\"\"Authenticate retrieve token information.\u001b[39;00m\n\u001b[1;32m     51\u001b[0m \n\u001b[1;32m     52\u001b[0m \u001b[38;5;124;03m    This is a multi-step process where a client does federated authn\u001b[39;00m\n\u001b[0;32m   (...)\u001b[0m\n\u001b[1;32m     63\u001b[0m \n\u001b[1;32m     64\u001b[0m \u001b[38;5;124;03m    \"\"\"\u001b[39;00m\n\u001b[0;32m---> 65\u001b[0m     auth_ref \u001b[38;5;241m=\u001b[39m \u001b[38;5;28;43mself\u001b[39;49m\u001b[38;5;241;43m.\u001b[39;49m\u001b[43mget_unscoped_auth_ref\u001b[49m\u001b[43m(\u001b[49m\u001b[43msession\u001b[49m\u001b[43m)\u001b[49m\n\u001b[1;32m     66\u001b[0m     scoping \u001b[38;5;241m=\u001b[39m \u001b[38;5;28mself\u001b[39m\u001b[38;5;241m.\u001b[39m_get_scoping_data()\n\u001b[1;32m     68\u001b[0m     \u001b[38;5;28;01mif\u001b[39;00m \u001b[38;5;28many\u001b[39m(scoping\u001b[38;5;241m.\u001b[39mvalues()):\n",
      "File \u001b[0;32m/opt/conda/lib/python3.10/site-packages/keystoneauth1/identity/v3/oidc.py:474\u001b[0m, in \u001b[0;36mOidcAccessToken.get_unscoped_auth_ref\u001b[0;34m(self, session)\u001b[0m\n\u001b[1;32m    458\u001b[0m \u001b[38;5;28;01mdef\u001b[39;00m \u001b[38;5;21mget_unscoped_auth_ref\u001b[39m(\u001b[38;5;28mself\u001b[39m, session):\n\u001b[1;32m    459\u001b[0m     \u001b[38;5;124;03m\"\"\"Authenticate with OpenID Connect and get back claims.\u001b[39;00m\n\u001b[1;32m    460\u001b[0m \n\u001b[1;32m    461\u001b[0m \u001b[38;5;124;03m    We exchange the access token upon accessing the protected Keystone\u001b[39;00m\n\u001b[0;32m   (...)\u001b[0m\n\u001b[1;32m    472\u001b[0m \u001b[38;5;124;03m    :rtype: :py:class:`keystoneauth1.access.AccessInfoV3`\u001b[39;00m\n\u001b[1;32m    473\u001b[0m \u001b[38;5;124;03m    \"\"\"\u001b[39;00m\n\u001b[0;32m--> 474\u001b[0m     response \u001b[38;5;241m=\u001b[39m \u001b[38;5;28;43mself\u001b[39;49m\u001b[38;5;241;43m.\u001b[39;49m\u001b[43m_get_keystone_token\u001b[49m\u001b[43m(\u001b[49m\u001b[43msession\u001b[49m\u001b[43m,\u001b[49m\u001b[43m \u001b[49m\u001b[38;5;28;43mself\u001b[39;49m\u001b[38;5;241;43m.\u001b[39;49m\u001b[43maccess_token\u001b[49m\u001b[43m)\u001b[49m\n\u001b[1;32m    475\u001b[0m     \u001b[38;5;28;01mreturn\u001b[39;00m access\u001b[38;5;241m.\u001b[39mcreate(resp\u001b[38;5;241m=\u001b[39mresponse)\n",
      "File \u001b[0;32m/opt/conda/lib/python3.10/site-packages/keystoneauth1/identity/v3/oidc.py:219\u001b[0m, in \u001b[0;36m_OidcBase._get_keystone_token\u001b[0;34m(self, session, access_token)\u001b[0m\n\u001b[1;32m    217\u001b[0m \u001b[38;5;66;03m# use access token against protected URL\u001b[39;00m\n\u001b[1;32m    218\u001b[0m headers \u001b[38;5;241m=\u001b[39m {\u001b[38;5;124m'\u001b[39m\u001b[38;5;124mAuthorization\u001b[39m\u001b[38;5;124m'\u001b[39m: \u001b[38;5;124m'\u001b[39m\u001b[38;5;124mBearer \u001b[39m\u001b[38;5;124m'\u001b[39m \u001b[38;5;241m+\u001b[39m access_token}\n\u001b[0;32m--> 219\u001b[0m auth_response \u001b[38;5;241m=\u001b[39m \u001b[43msession\u001b[49m\u001b[38;5;241;43m.\u001b[39;49m\u001b[43mpost\u001b[49m\u001b[43m(\u001b[49m\u001b[38;5;28;43mself\u001b[39;49m\u001b[38;5;241;43m.\u001b[39;49m\u001b[43mfederated_token_url\u001b[49m\u001b[43m,\u001b[49m\n\u001b[1;32m    220\u001b[0m \u001b[43m                             \u001b[49m\u001b[43mheaders\u001b[49m\u001b[38;5;241;43m=\u001b[39;49m\u001b[43mheaders\u001b[49m\u001b[43m,\u001b[49m\n\u001b[1;32m    221\u001b[0m \u001b[43m                             \u001b[49m\u001b[43mauthenticated\u001b[49m\u001b[38;5;241;43m=\u001b[39;49m\u001b[38;5;28;43;01mFalse\u001b[39;49;00m\u001b[43m)\u001b[49m\n\u001b[1;32m    222\u001b[0m \u001b[38;5;28;01mreturn\u001b[39;00m auth_response\n",
      "File \u001b[0;32m/opt/conda/lib/python3.10/site-packages/keystoneauth1/session.py:1149\u001b[0m, in \u001b[0;36mSession.post\u001b[0;34m(self, url, **kwargs)\u001b[0m\n\u001b[1;32m   1143\u001b[0m \u001b[38;5;28;01mdef\u001b[39;00m \u001b[38;5;21mpost\u001b[39m(\u001b[38;5;28mself\u001b[39m, url, \u001b[38;5;241m*\u001b[39m\u001b[38;5;241m*\u001b[39mkwargs):\n\u001b[1;32m   1144\u001b[0m     \u001b[38;5;124;03m\"\"\"Perform a POST request.\u001b[39;00m\n\u001b[1;32m   1145\u001b[0m \n\u001b[1;32m   1146\u001b[0m \u001b[38;5;124;03m    This calls :py:meth:`.request()` with ``method`` set to ``POST``.\u001b[39;00m\n\u001b[1;32m   1147\u001b[0m \n\u001b[1;32m   1148\u001b[0m \u001b[38;5;124;03m    \"\"\"\u001b[39;00m\n\u001b[0;32m-> 1149\u001b[0m     \u001b[38;5;28;01mreturn\u001b[39;00m \u001b[38;5;28;43mself\u001b[39;49m\u001b[38;5;241;43m.\u001b[39;49m\u001b[43mrequest\u001b[49m\u001b[43m(\u001b[49m\u001b[43murl\u001b[49m\u001b[43m,\u001b[49m\u001b[43m \u001b[49m\u001b[38;5;124;43m'\u001b[39;49m\u001b[38;5;124;43mPOST\u001b[39;49m\u001b[38;5;124;43m'\u001b[39;49m\u001b[43m,\u001b[49m\u001b[43m \u001b[49m\u001b[38;5;241;43m*\u001b[39;49m\u001b[38;5;241;43m*\u001b[39;49m\u001b[43mkwargs\u001b[49m\u001b[43m)\u001b[49m\n",
      "File \u001b[0;32m/opt/conda/lib/python3.10/site-packages/keystoneauth1/session.py:986\u001b[0m, in \u001b[0;36mSession.request\u001b[0;34m(self, url, method, json, original_ip, user_agent, redirect, authenticated, endpoint_filter, auth, requests_auth, raise_exc, allow_reauth, log, endpoint_override, connect_retries, logger, allow, client_name, client_version, microversion, microversion_service_type, status_code_retries, retriable_status_codes, rate_semaphore, global_request_id, connect_retry_delay, status_code_retry_delay, **kwargs)\u001b[0m\n\u001b[1;32m    983\u001b[0m \u001b[38;5;28;01mif\u001b[39;00m raise_exc \u001b[38;5;129;01mand\u001b[39;00m resp\u001b[38;5;241m.\u001b[39mstatus_code \u001b[38;5;241m>\u001b[39m\u001b[38;5;241m=\u001b[39m \u001b[38;5;241m400\u001b[39m:\n\u001b[1;32m    984\u001b[0m     logger\u001b[38;5;241m.\u001b[39mdebug(\u001b[38;5;124m'\u001b[39m\u001b[38;5;124mRequest returned failure status: \u001b[39m\u001b[38;5;132;01m%s\u001b[39;00m\u001b[38;5;124m'\u001b[39m,\n\u001b[1;32m    985\u001b[0m                  resp\u001b[38;5;241m.\u001b[39mstatus_code)\n\u001b[0;32m--> 986\u001b[0m     \u001b[38;5;28;01mraise\u001b[39;00m exceptions\u001b[38;5;241m.\u001b[39mfrom_response(resp, method, url)\n\u001b[1;32m    988\u001b[0m \u001b[38;5;28;01mif\u001b[39;00m \u001b[38;5;28mself\u001b[39m\u001b[38;5;241m.\u001b[39m_collect_timing:\n\u001b[1;32m    989\u001b[0m     \u001b[38;5;28;01mfor\u001b[39;00m h \u001b[38;5;129;01min\u001b[39;00m resp\u001b[38;5;241m.\u001b[39mhistory:\n",
      "\u001b[0;31mUnauthorized\u001b[0m: Unauthorized (HTTP 401)"
     ]
    }
   ],
   "source": [
    "chi.use_site(chameleon_site_1)\n",
    "os.environ['OS_REGION_NAME'] = chameleon_site_1\n",
    "\n",
    "network_manager.nuke_network(site_1_network_id)"
   ]
  },
  {
   "cell_type": "code",
   "execution_count": null,
   "id": "f6a6d79e-9a21-460d-8150-327fda086314",
   "metadata": {},
   "outputs": [],
   "source": [
    "chi.use_site(chameleon_site_1)\n",
    "os.environ['OS_REGION_NAME'] = chameleon_site_1\n",
    "\n",
    "lease_manager.delete_lease(site_1_resource_lease_id)\n",
    "lease_manager.delete_lease(site_1_network_lease_id)"
   ]
  },
  {
   "cell_type": "code",
   "execution_count": null,
   "id": "5febdd84-8f68-4d8c-9355-16f1d346d342",
   "metadata": {},
   "outputs": [],
   "source": [
    "chi.use_site(chameleon_site_2)\n",
    "os.environ['OS_REGION_NAME'] = chameleon_site_2\n",
    "\n",
    "for server_id in site_2_server_ids:\n",
    "    server_manager.delete_server(server_id)"
   ]
  },
  {
   "cell_type": "code",
   "execution_count": null,
   "id": "4eb0782b-a21b-447b-8026-ef0ff2c76996",
   "metadata": {},
   "outputs": [],
   "source": [
    "chi.use_site(chameleon_site_2)\n",
    "os.environ['OS_REGION_NAME'] = chameleon_site_2\n",
    "\n",
    "network_manager.nuke_network(site_2_network_id)"
   ]
  },
  {
   "cell_type": "code",
   "execution_count": null,
   "id": "a047f6d3-dc52-4416-828c-d0e54ae771dc",
   "metadata": {},
   "outputs": [],
   "source": [
    "chi.use_site(chameleon_site_2)\n",
    "os.environ['OS_REGION_NAME'] = chameleon_site_2\n",
    "\n",
    "lease_manager.delete_lease(site_2_resource_lease_id)\n",
    "lease_manager.delete_lease(site_2_network_lease_id)"
   ]
  }
 ],
 "metadata": {
  "kernelspec": {
   "display_name": "Python 3 (ipykernel)",
   "language": "python",
   "name": "python3"
  },
  "language_info": {
   "codemirror_mode": {
    "name": "ipython",
    "version": 3
   },
   "file_extension": ".py",
   "mimetype": "text/x-python",
   "name": "python",
   "nbconvert_exporter": "python",
   "pygments_lexer": "ipython3",
   "version": "3.10.9"
  }
 },
 "nbformat": 4,
 "nbformat_minor": 5
}
