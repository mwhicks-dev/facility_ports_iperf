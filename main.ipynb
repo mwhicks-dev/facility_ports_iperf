{
 "cells": [
  {
   "cell_type": "markdown",
   "id": "ac575437-37a7-4897-9101-82693a63eb1e",
   "metadata": {},
   "source": [
    "Chameleon/FABRIC setup"
   ]
  },
  {
   "cell_type": "code",
   "execution_count": null,
   "id": "3ce5d786-2a1f-4e2a-a98f-34788e5b57fb",
   "metadata": {},
   "outputs": [],
   "source": [
    "#General imports\n",
    "import os\n",
    "import json\n",
    "import traceback\n",
    "from ipaddress import ip_address, IPv4Address, IPv6Address, IPv4Network, IPv6Network\n",
    "from datetime import datetime, timedelta\n",
    "from dateutil import tz\n",
    "import time\n",
    "\n",
    "# Chameleon Library\n",
    "import chi\n",
    "import chi.lease as lease_manager\n",
    "import chi.server as server_manager\n",
    "import chi.network as network_manager\n",
    "\n",
    "# FABRIC Library\n",
    "from fabrictestbed_extensions.fablib.fablib import FablibManager as fablib_manager"
   ]
  },
  {
   "cell_type": "code",
   "execution_count": null,
   "id": "365465ad-a938-4c18-98cc-a3c5ec72672c",
   "metadata": {},
   "outputs": [],
   "source": [
    "# Change to your project (CHI-XXXXXX) \n",
    "chi.set(\"project_name\", \"CHI-XXXXXX\")\n",
    "\n",
    "chameleon_prefix =  f'{os.environ[\"USER\"]}_fabric_iperf'\n",
    "chameleon_server_name = chameleon_prefix+'_server'\n",
    "chameleon_network_name = chameleon_prefix+'_net'\n",
    "chameleon_subnet_name = chameleon_prefix+'_subnet'\n",
    "chameleon_router_name = chameleon_prefix+'_router'\n",
    "chameleon_lease_name = chameleon_prefix+'_lease'\n",
    "\n",
    "chameleon_image_name='CC-Ubuntu20.04'\n",
    "chameleon_server_count=1\n",
    "\n",
    "chameleon_key_name='<Your_Chameleon_Key>'\n",
    "chameleon_server_reservation_id = '<Your_Chameleon_Server_Reservation>'"
   ]
  },
  {
   "cell_type": "markdown",
   "id": "da807a6e-b409-4201-bcfa-343f1bd1d9ad",
   "metadata": {},
   "source": [
    "UC reservation"
   ]
  },
  {
   "cell_type": "code",
   "execution_count": null,
   "id": "a50323bc-64b7-40ee-bdd5-828bbe9b11f0",
   "metadata": {},
   "outputs": [],
   "source": [
    "chi.use_site('CHI@UC')\n",
    "\n",
    "uc_network_name = chameleon_network_name+'_uc'\n",
    "\n",
    "# set start/end dates\n",
    "start_date = (datetime.now(tz=tz.tzutc()) + timedelta(minutes=1)).strftime(BLAZAR_TIME_FORMAT)\n",
    "end_date = (datetime.now(tz=tz.tzutc()) + timedelta(hours=1)).strftime(BLAZAR_TIME_FORMAT)\n",
    "\n",
    "# create lease reservations\n",
    "uc_reservations = []\n",
    "lease_manager.add_node_reservation(uc_reservations, count=1)\n",
    "lease_manager.add_fip_reservation(uc_reservations, count=1)\n",
    "reservation_list.append(\n",
    "        {\n",
    "            \"resource_type\": \"network\",\n",
    "            \"network_name\": uc_network_name,\n",
    "            \"network_properties\": \"\",\n",
    "            \"resource_properties\": json.dumps(\n",
    "                [\"==\", \"$stitch_provider\", 'fabric']\n",
    "            ),\n",
    "        }\n",
    ")\n",
    "\n",
    "# create lease\n",
    "uc_lease_name = chameleon_lease_name+'_uc'\n",
    "uc_lease = lease_manager.create_lease(uc_lease_name,\n",
    "                                     reservations=uc_reservations,\n",
    "                                     start_date=start_date,\n",
    "                                     end_date=end_date)\n",
    "\n",
    "# get lease info\n",
    "uc_lease_id = lease_manager.get_lease_id(uc_lease_name)\n",
    "uc_network_reservation_id = [reservation for reservation in chameleon_lease['reservations'] if reservation['resource_type'] == 'network'][0]['id']\n",
    "uc_node_reservation_id = lease_manager.get_node_reservation(uc_lease_id)"
   ]
  },
  {
   "cell_type": "markdown",
   "id": "db82ee8f-fbe1-4bb8-83ac-149012c95191",
   "metadata": {},
   "source": [
    "TACC reservation"
   ]
  },
  {
   "cell_type": "code",
   "execution_count": null,
   "id": "574835cd-80f4-416c-82e5-374162bed656",
   "metadata": {},
   "outputs": [],
   "source": [
    "chi.use_site('CHI@TACC')\n",
    "\n",
    "tacc_network_name = chameleon_network_name+'_uc'\n",
    "\n",
    "# set start/end dates\n",
    "start_date = (datetime.now(tz=tz.tzutc()) + timedelta(minutes=1)).strftime(BLAZAR_TIME_FORMAT)\n",
    "end_date = (datetime.now(tz=tz.tzutc()) + timedelta(hours=1)).strftime(BLAZAR_TIME_FORMAT)\n",
    "\n",
    "# create lease reservations\n",
    "tacc_reservations = []\n",
    "lease_manager.add_node_reservation(tacc_reservations, count=1)\n",
    "lease_manager.add_fip_reservation(tacc_reservations, count=1)\n",
    "reservation_list.append(\n",
    "        {\n",
    "            \"resource_type\": \"network\",\n",
    "            \"network_name\": tacc_network_name,\n",
    "            \"network_properties\": \"\",\n",
    "            \"resource_properties\": json.dumps(\n",
    "                [\"==\", \"$stitch_provider\", 'fabric']\n",
    "            ),\n",
    "        }\n",
    ")\n",
    "\n",
    "# create lease\n",
    "tacc_lease_name = chameleon_lease_name+'_uc'\n",
    "tacc_lease = lease_manager.create_lease(tacc_lease_name,\n",
    "                                     reservations=tacc_reservations,\n",
    "                                     start_date=start_date,\n",
    "                                     end_date=end_date)\n",
    "\n",
    "# get lease info\n",
    "tacc_lease_id = lease_manager.get_lease_id(tacc_lease_name)\n",
    "tacc_network_reservation_id = [reservation for reservation in chameleon_lease['reservations'] if reservation['resource_type'] == 'network'][0]['id']\n",
    "tacc_node_reservation_id = lease_manager.get_node_reservation(tacc_lease_id)"
   ]
  },
  {
   "cell_type": "markdown",
   "id": "1252a604-986f-4f6e-b73a-19d95db905b5",
   "metadata": {},
   "source": [
    "Check networks"
   ]
  },
  {
   "cell_type": "code",
   "execution_count": null,
   "id": "e49ad4f3-25d4-4e0c-815e-711e6fa8fc7e",
   "metadata": {},
   "outputs": [],
   "source": [
    "uc_network_vlan = tacc_network_vlan = None\n",
    "while uc_network_vlan == None or tacc_network_vlan == None:\n",
    "    try:\n",
    "        # uc check\n",
    "        chi.use_site('CHI@UC')\n",
    "        \n",
    "        #Get the network\n",
    "        uc_network = network_manager.get_network(uc_network_name)\n",
    "\n",
    "        #Get the network ID\n",
    "        uc_network_id = uc_network['id']\n",
    "        # print(f'Chameleon Network ID: {chameleon_network_id}')\n",
    "\n",
    "        #Get the VLAN tag (needed for FABRIC stitching)\n",
    "        uc_network_vlan = uc_network['provider:segmentation_id']\n",
    "        # print(f'network_vlan: {network_vlan}')\n",
    "        \n",
    "        # tacc check\n",
    "        chi.use_site('CHI@TACC')\n",
    "        \n",
    "        #Get the network\n",
    "        tacc_network = network_manager.get_network(tacc_network_name)\n",
    "\n",
    "        #Get the network ID\n",
    "        tacc_network_id = tacc_network['id']\n",
    "        # print(f'Chameleon Network ID: {chameleon_network_id}')\n",
    "\n",
    "        #Get the VLAN tag (needed for FABRIC stitching)\n",
    "        tacc_network_vlan = tacc_network['provider:segmentation_id']\n",
    "        # print(f'network_vlan: {network_vlan}')\n",
    "    except:\n",
    "        print(f'Chameleon Networks are not ready. Trying again!')\n",
    "        time.sleep(10) "
   ]
  }
 ],
 "metadata": {
  "kernelspec": {
   "display_name": "Python 3 (ipykernel)",
   "language": "python",
   "name": "python3"
  },
  "language_info": {
   "codemirror_mode": {
    "name": "ipython",
    "version": 3
   },
   "file_extension": ".py",
   "mimetype": "text/x-python",
   "name": "python",
   "nbconvert_exporter": "python",
   "pygments_lexer": "ipython3",
   "version": "3.10.9"
  }
 },
 "nbformat": 4,
 "nbformat_minor": 5
}
